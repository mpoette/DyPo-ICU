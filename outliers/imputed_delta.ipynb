{
 "cells": [
  {
   "cell_type": "code",
   "execution_count": null,
   "metadata": {},
   "outputs": [],
   "source": [
    "import json\n",
    "import polars as pl\n",
    "import numpy as np\n",
    "from sklearn.preprocessing import StandardScaler\n",
    "from pypots.imputation import SAITS\n",
    "from tqdm import tqdm"
   ]
  },
  {
   "cell_type": "code",
   "execution_count": null,
   "metadata": {},
   "outputs": [],
   "source": [
    "with open('../params.json', 'r') as file :\n",
    "    params = json.load(file)\n",
    "\n",
    "DATASET, VERSION, DATA_FOLD = params['dataset'], params['version'], params['data_folder']\n",
    "\n",
    "print(f'Working on {DATASET} dataset {VERSION}')"
   ]
  },
  {
   "cell_type": "code",
   "execution_count": null,
   "metadata": {},
   "outputs": [],
   "source": [
    "IMPUTED_DATASET = f'{DATA_FOLD}/{VERSION}/3.analysis/imputation_48/{DATASET}/tables/first_48_imputed_saits.parquet'\n",
    "ORIGINAL_DATASET = f'{DATA_FOLD}/{VERSION}/3.analysis/imputation_48/{DATASET}/first_48h.parquet'"
   ]
  },
  {
   "cell_type": "code",
   "execution_count": null,
   "metadata": {},
   "outputs": [],
   "source": [
    "df_imputed = pl.read_parquet(IMPUTED_DATASET)\n",
    "df_original = pl.read_parquet(ORIGINAL_DATASET)"
   ]
  },
  {
   "cell_type": "code",
   "execution_count": null,
   "metadata": {},
   "outputs": [],
   "source": [
    "scaler = StandardScaler()"
   ]
  },
  {
   "cell_type": "code",
   "execution_count": null,
   "metadata": {},
   "outputs": [],
   "source": [
    "scaler.fit(df_imputed.to_numpy()[:,2:])"
   ]
  },
  {
   "cell_type": "code",
   "execution_count": null,
   "metadata": {},
   "outputs": [],
   "source": [
    "def to_3d_array(df):\n",
    "    array_df =(\n",
    "        df\n",
    "            .select(pl.col('fr', 'heart_rate', 'spo2', 'pad', 'pam', 'pas'))\n",
    "            .to_numpy()\n",
    "    )\n",
    "    array_df = scaler.transform(array_df)\n",
    "\n",
    "    array_df = array_df.reshape(-1, 48, 6)\n",
    "\n",
    "    return array_df"
   ]
  },
  {
   "cell_type": "code",
   "execution_count": null,
   "metadata": {},
   "outputs": [],
   "source": [
    "df_imputed_3d = to_3d_array(df_imputed)\n",
    "df_original_3d = to_3d_array(df_original)"
   ]
  },
  {
   "cell_type": "code",
   "execution_count": null,
   "metadata": {},
   "outputs": [],
   "source": [
    "mask = np.isnan(df_original_3d) ^ np.isnan(df_imputed_3d)"
   ]
  },
  {
   "cell_type": "code",
   "execution_count": null,
   "metadata": {},
   "outputs": [],
   "source": [
    "n_steps, n_features = df_original_3d.shape[1], df_original_3d.shape[2]\n",
    "\n",
    "saits = SAITS(\n",
    "    n_steps=n_steps, n_features=n_features,\n",
    "    n_layers=3, d_model=512, d_ffn=128, n_heads=8, d_k=64, d_v=64\n",
    "    )\n",
    "saits.load(path=f'{DATA_FOLD}/{VERSION}/4.models/imputation/mimic/saits/saits_two_days_with_val.pypots')"
   ]
  },
  {
   "cell_type": "code",
   "execution_count": null,
   "metadata": {},
   "outputs": [],
   "source": [
    "df_imputed_3d.shape"
   ]
  },
  {
   "cell_type": "code",
   "execution_count": null,
   "metadata": {},
   "outputs": [],
   "source": [
    "test_data = df_imputed_3d[:1000,:,:]"
   ]
  },
  {
   "cell_type": "code",
   "execution_count": null,
   "metadata": {},
   "outputs": [],
   "source": [
    "errors = np.zeros_like(test_data, dtype=float)\n",
    "\n",
    "num_series, seq_length, num_features = test_data.shape\n",
    "# i : index\n",
    "# t : timestamp\n",
    "# f : feature\n",
    "\n",
    "for i in tqdm(range(num_series), desc=\"Processing series\"):\n",
    "    for t in range(seq_length):\n",
    "        for f in range(num_features):\n",
    "            # On ne traite que les points observés (non manquants)\n",
    "            if mask[i, t, f] == 0:\n",
    "                # Création d'une copie du masque\n",
    "                data_temp = test_data[i].copy()\n",
    "                \n",
    "                # Masquer uniquement le point (t, f)\n",
    "                data_temp[t, f] = np.nan  # ou une valeur de remplissage indiquant le manque\n",
    "                \n",
    "                data_temp = data_temp.reshape(-1, seq_length, num_features)\n",
    "\n",
    "                imputed_series = saits.impute({'X': data_temp})\n",
    "                \n",
    "                # Extraire la valeur imputée pour le point (t, f)\n",
    "                imputed_value = imputed_series[0, t, f]\n",
    "                \n",
    "                # Calcul de l'erreur (relative)\n",
    "                errors[i, t, f] = (test_data[i, t, f] - imputed_value)\n",
    "\n",
    "# 3. Normalisation des erreurs pour obtenir un score entre 0 et 1\n",
    "# Option A : scaling simple\n",
    "e_min = errors.min()\n",
    "e_max = errors.max()\n",
    "scores = (errors - e_min) / (e_max - e_min + 1e-8)  # ajout d'une petite valeur pour éviter la division par zéro"
   ]
  },
  {
   "cell_type": "code",
   "execution_count": null,
   "metadata": {},
   "outputs": [],
   "source": [
    "results_folder = f'{DATA_FOLD}/{VERSION}/3.analysis/outliers/{DATASET}'"
   ]
  },
  {
   "cell_type": "code",
   "execution_count": null,
   "metadata": {},
   "outputs": [],
   "source": [
    "error_1d = errors.reshape(-1)"
   ]
  },
  {
   "cell_type": "code",
   "execution_count": null,
   "metadata": {},
   "outputs": [],
   "source": [
    "len(np.where(np.logical_and(error_1d >-2, error_1d < 2))[0])/len(error_1d)"
   ]
  },
  {
   "cell_type": "code",
   "execution_count": null,
   "metadata": {},
   "outputs": [],
   "source": [
    "import seaborn as sns\n",
    "import matplotlib.pyplot as plt\n",
    "\n",
    "sns.histplot(error_1d)\n",
    "\n",
    "plt.xlim(-3, 3)\n",
    "plt.ylim(0,15000)"
   ]
  },
  {
   "cell_type": "code",
   "execution_count": null,
   "metadata": {},
   "outputs": [],
   "source": [
    "df_score_sample = pl.DataFrame(errors.reshape(-1, 6))\n",
    "df_score_sample.write_csv(results_folder + '/datasets/saits_errors.csv')"
   ]
  },
  {
   "cell_type": "code",
   "execution_count": null,
   "metadata": {},
   "outputs": [],
   "source": [
    "display_data = scaler.inverse_transform(test_data.reshape(-1, 6))\n",
    "reshaped_display_data = display_data.reshape(-1, 48, 6)"
   ]
  },
  {
   "cell_type": "code",
   "execution_count": null,
   "metadata": {},
   "outputs": [],
   "source": [
    "import math\n",
    "\n",
    "math.erf(1)"
   ]
  },
  {
   "cell_type": "code",
   "execution_count": null,
   "metadata": {},
   "outputs": [],
   "source": []
  },
  {
   "cell_type": "code",
   "execution_count": null,
   "metadata": {},
   "outputs": [],
   "source": [
    "np.random.choice(np.where(scores[:,:,4] > 0.8)[0])"
   ]
  },
  {
   "cell_type": "code",
   "execution_count": null,
   "metadata": {},
   "outputs": [],
   "source": [
    "df_imputed.columns"
   ]
  },
  {
   "cell_type": "code",
   "execution_count": null,
   "metadata": {},
   "outputs": [],
   "source": [
    "selected_patient = 883\n",
    "selected_patient = int(np.random.choice(np.where(scores[:,:,4] > 0.5)[0]))\n",
    "\n",
    "selected_feature = 4\n",
    "timestamps = np.arange(48)\n",
    "\n",
    "import matplotlib.pyplot as plt\n",
    "\n",
    "fig, (ax1, ax2) = plt.subplots(2, 1, sharex=True, figsize=(12, 8))\n",
    "\n",
    "patient_data = reshaped_display_data[selected_patient,:,selected_feature]\n",
    "error_value = errors[selected_patient,:,selected_feature]\n",
    "\n",
    "# Premier subplot : valeurs du patient\n",
    "ax1.plot(timestamps, patient_data, marker='o', label='Valeur de la variable')\n",
    "ax1.set_ylabel('Valeur')\n",
    "#ax1.set_ylim(20, 140)\n",
    "ax1.grid(True)\n",
    "\n",
    "\n",
    "# Second subplot : variation du score\n",
    "ax2.plot(timestamps, abs(error_value), marker='o', color='red', label='Score')\n",
    "ax2.set_title('Variation du score')\n",
    "ax2.set_xlabel('Temps')\n",
    "ax2.set_ylabel('Erreur')\n",
    "ax2.set_ylim(0, 3)\n",
    "ax2.grid(True)\n",
    "\n",
    "# Ajustement des espacements pour éviter le chevauchement des labels/titres\n",
    "plt.tight_layout()\n",
    "\n",
    "fig.suptitle(f\"patient {selected_patient}, variable {df_imputed[:,2:].columns[selected_feature]}\")\n",
    "# Affichage du graphique\n",
    "plt.show()\n"
   ]
  },
  {
   "cell_type": "code",
   "execution_count": null,
   "metadata": {},
   "outputs": [],
   "source": [
    "import matplotlib.pyplot as plt\n",
    "\n",
    "fig, (ax1, ax2) = plt.subplots(2, 1, sharex=True, figsize=(12, 8))\n",
    "\n",
    "patient_data = reshaped_display_data[selected_patient,:,selected_feature]\n",
    "patient_scores = scores[selected_patient,:,selected_feature]\n",
    "\n",
    "# Premier subplot : valeurs du patient\n",
    "ax1.plot(timestamps, patient_data, marker='o', label='Valeur de la variable')\n",
    "ax1.set_ylabel('Valeur')\n",
    "ax1.grid(True)\n",
    "\n",
    "# Second subplot : variation du score\n",
    "ax2.plot(timestamps, patient_scores, marker='o', color='red', label='Score')\n",
    "ax2.set_title('Variation du score')\n",
    "ax2.set_xlabel('Temps')\n",
    "ax2.set_ylabel('Score')\n",
    "ax2.set_ylim(0, 1)\n",
    "ax2.grid(True)\n",
    "\n",
    "# Ajustement des espacements pour éviter le chevauchement des labels/titres\n",
    "plt.tight_layout()\n",
    "\n",
    "fig.suptitle(f\"patient {selected_patient}, variable {df_imputed[:,2:].columns[selected_feature]}\")\n",
    "# Affichage du graphique\n",
    "plt.show()\n"
   ]
  }
 ],
 "metadata": {
  "language_info": {
   "name": "python"
  }
 },
 "nbformat": 4,
 "nbformat_minor": 2
}
