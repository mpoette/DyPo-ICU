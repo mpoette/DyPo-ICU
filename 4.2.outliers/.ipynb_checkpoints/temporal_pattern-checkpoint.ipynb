{
 "cells": [
  {
   "cell_type": "markdown",
   "metadata": {},
   "source": [
    "# Imports"
   ]
  },
  {
   "cell_type": "code",
   "execution_count": null,
   "metadata": {},
   "outputs": [],
   "source": [
    "import polars as pl\n",
    "import json\n",
    "import pandas as pd\n",
    "from tqdm import tqdm\n",
    "import numpy as np"
   ]
  },
  {
   "cell_type": "code",
   "execution_count": null,
   "metadata": {},
   "outputs": [],
   "source": [
    "with open('../params.json', 'r') as file :\n",
    "    params = json.load(file)\n",
    "\n",
    "DATASET, VERSION, DATA_FOLD = params['dataset'], params['version'], params['data_folder']\n",
    "\n",
    "print(f'Working on {DATASET} dataset {VERSION}')"
   ]
  },
  {
   "cell_type": "code",
   "execution_count": null,
   "metadata": {},
   "outputs": [],
   "source": [
    "df = pl.read_parquet(f'{DATA_FOLD}/{VERSION}/3.analysis/imputation_48/{DATASET}/first_48h.parquet').to_pandas()"
   ]
  },
  {
   "cell_type": "code",
   "execution_count": null,
   "metadata": {},
   "outputs": [],
   "source": [
    "df.head()"
   ]
  },
  {
   "cell_type": "markdown",
   "metadata": {},
   "source": [
    "# Window selection"
   ]
  },
  {
   "cell_type": "code",
   "execution_count": null,
   "metadata": {},
   "outputs": [],
   "source": [
    "results = {}\n",
    "\n",
    "# tqdm sur la boucle principale\n",
    "for n in tqdm(range(1, 49), desc=\"Calcul en cours\", unit=\"taille\"):\n",
    "    count = 0\n",
    "\n",
    "    # Optionnel : on peut aussi suivre la progression interne des groupes\n",
    "    for _, group in df.groupby('encounterId'):\n",
    "        group_sorted = group.sort_values('intervalle')\n",
    "        complete = (group_sorted['total_missing'] == 0).astype(int).to_numpy()\n",
    "        \n",
    "        rolling_sums = pd.Series(complete).rolling(window=n).sum()\n",
    "        count += (rolling_sums == n).sum()\n",
    "\n",
    "    results[n] = count\n",
    "\n",
    "# Affichage des résultats\n",
    "for n, cnt in results.items():\n",
    "    print(f\"{n} : {cnt}\")\n"
   ]
  },
  {
   "cell_type": "code",
   "execution_count": null,
   "metadata": {},
   "outputs": [],
   "source": [
    "import matplotlib.pyplot as plt\n",
    "\n",
    "# Si ce n'est pas déjà fait : results = {n: count} calculé auparavant\n",
    "\n",
    "# Extraire les valeurs pour le graphique\n",
    "n_values = list(results.keys())\n",
    "interval_counts = list(results.values())\n",
    "\n",
    "# Tracer le graphique\n",
    "plt.figure(figsize=(10, 6))\n",
    "plt.plot(n_values, interval_counts, marker='o', linestyle='-', color='royalblue')\n",
    "#plt.title(\"Nombre d'intervalles complets selon la taille de la fenêtre\", fontsize=14)\n",
    "plt.xlabel(\"Taille de l'intervalle (n timestamps consécutifs)\", fontsize=12)\n",
    "plt.ylabel(\"Nombre d'intervalles complets\", fontsize=12)\n",
    "plt.grid(True)\n",
    "plt.xticks(range(0, 49, 2))  # pour lisibilité\n",
    "plt.tight_layout()\n",
    "plt.show()"
   ]
  },
  {
   "cell_type": "markdown",
   "metadata": {},
   "source": [
    "## Dataset séries temporelles"
   ]
  },
  {
   "cell_type": "markdown",
   "metadata": {},
   "source": [
    "On choisit des séries de 9 timestamps"
   ]
  },
  {
   "cell_type": "code",
   "execution_count": null,
   "metadata": {},
   "outputs": [],
   "source": [
    "# Les features à utiliser pour le clustering\n",
    "features = ['heart_rate', 'spo2', 'fr', 'pam']\n",
    "\n",
    "# Trier le DataFrame par encounterid et par intervalle\n",
    "df_sorted = df.sort_values(by=['encounterId', 'intervalle'])\n",
    "\n",
    "# Initialiser la liste qui contiendra les fenêtres et le compteur pour tsId\n",
    "windows_list = []  # Pour stocker les fenêtres sous forme d'array NumPy\n",
    "ts_ids = []        # Optionnel : pour garder une trace des tsId\n",
    "ts_counter = 0\n",
    "\n",
    "# Parcourir chaque groupe d'éncounters avec une barre de progression\n",
    "for encounter_id, group in tqdm(df_sorted.groupby('encounterId'), desc=\"Processing encounters\"):\n",
    "    group_sorted = group.sort_values('intervalle').reset_index(drop=True)\n",
    "    \n",
    "    # Convertir les colonnes d'intérêt en array NumPy pour tout le groupe\n",
    "    group_array = group_sorted[features].to_numpy()\n",
    "    n = group_array.shape[0]\n",
    "    \n",
    "    # Glisser une fenêtre de 9 timestamps sur le groupe\n",
    "    for i in range(n - 8):\n",
    "        window = group_array[i:i+9]  # Fenêtre de taille 9 x len(features)\n",
    "        # Vérifier rapidement s'il y a des NaN dans la fenêtre\n",
    "        if np.isnan(window).any():\n",
    "            continue\n",
    "        windows_list.append(window)\n",
    "        ts_ids.append(ts_counter)  # Ici, ts_ids est un simple identifiant numérique\n",
    "        ts_counter += 1\n",
    "\n",
    "# Empiler toutes les fenêtres pour obtenir un array 3D de forme (nb_series, 9, 4)\n",
    "array_3d = np.stack(windows_list, axis=0)\n",
    "print(\"Nombre de séries temporelles retenues :\", array_3d.shape[0])\n",
    "print(\"Dimensions de X :\", array_3d.shape)"
   ]
  },
  {
   "cell_type": "code",
   "execution_count": null,
   "metadata": {},
   "outputs": [],
   "source": [
    "from tslearn.clustering import TimeSeriesKMeans\n",
    "\n",
    "n_clusters = 3\n",
    "model = TimeSeriesKMeans(n_clusters=n_clusters, metric='dtw', random_state=42)\n",
    "\n",
    "# Clustering avec tslearn\n",
    "clusters = model.fit_predict(array_3d)\n",
    "\n",
    "# Itération par cluster\n",
    "for cluster_idx in range(n_clusters):\n",
    "    plt.figure(figsize=(10, 5))\n",
    "    plt.title(f\"Séries temporelles du Cluster {cluster_idx}\")\n",
    "    # Utilisation de tqdm pour suivre l'itération sur les séries de ce cluster\n",
    "    for serie in tqdm(array_3d[clusters == cluster_idx],\n",
    "                      desc=f\"Plotting cluster {cluster_idx}\",\n",
    "                      leave=False):\n",
    "        plt.plot(serie, alpha=0.3)\n",
    "    plt.xlabel(\"Timestamp\")\n",
    "    plt.ylabel(\"Valeurs\")\n",
    "    plt.show()"
   ]
  }
 ],
 "metadata": {
  "language_info": {
   "name": "python"
  }
 },
 "nbformat": 4,
 "nbformat_minor": 2
}
