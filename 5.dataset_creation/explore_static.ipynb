{
 "cells": [
  {
   "cell_type": "code",
   "execution_count": null,
   "id": "04bfb8c1",
   "metadata": {},
   "outputs": [],
   "source": [
    "import polars as pl\n",
    "import pandas as pd\n",
    "import json\n",
    "from sklearn.preprocessing import StandardScaler, OrdinalEncoder\n",
    "import numpy as np\n",
    "from pathlib import Path\n",
    "from sklearn.model_selection import train_test_split, StratifiedKFold, GridSearchCV\n",
    "from sklearn.linear_model import LogisticRegression\n",
    "from sklearn.ensemble import RandomForestClassifier\n",
    "from xgboost import XGBClassifier\n",
    "from sklearn.metrics import roc_auc_score, roc_curve\n",
    "from sklearn.calibration import calibration_curve\n",
    "from statsmodels.stats.outliers_influence import variance_inflation_factor\n",
    "import matplotlib.pyplot as plt\n",
    "import joblib"
   ]
  },
  {
   "cell_type": "code",
   "execution_count": null,
   "id": "be70eb69",
   "metadata": {},
   "outputs": [],
   "source": [
    "with open('../params.json', 'r') as file :\n",
    "    params = json.load(file)\n",
    "\n",
    "DATASET, VERSION = params['dataset'], params['version']\n",
    "DATA_FOLD = params['data_folder']"
   ]
  },
  {
   "cell_type": "code",
   "execution_count": null,
   "id": "8ff8333f",
   "metadata": {},
   "outputs": [],
   "source": [
    "static = pl.read_parquet(f'{DATA_FOLD}/{VERSION}/2.clean_data/{DATASET}/static/clean_static_encounters.parquet')\n",
    "temporal = pl.read_parquet(f'{DATA_FOLD}/{VERSION}/2.clean_data/{DATASET}/temporal/all_features_with_delta.parquet')"
   ]
  },
  {
   "cell_type": "code",
   "execution_count": null,
   "id": "c178520e",
   "metadata": {},
   "outputs": [],
   "source": [
    "static['encounterNumber']"
   ]
  },
  {
   "cell_type": "code",
   "execution_count": null,
   "id": "50a058ff",
   "metadata": {},
   "outputs": [],
   "source": [
    "df = pd.read_parquet((f'{DATA_FOLD}/{VERSION}/2.clean_data/{DATASET}/static/minimal_grouped_24h.parquet'))"
   ]
  },
  {
   "cell_type": "code",
   "execution_count": null,
   "id": "9a32eead",
   "metadata": {},
   "outputs": [],
   "source": [
    "df.columns"
   ]
  },
  {
   "cell_type": "code",
   "execution_count": null,
   "id": "6a1d36b9",
   "metadata": {},
   "outputs": [],
   "source": [
    "scaler = StandardScaler()\n",
    "encoder = OrdinalEncoder()\n",
    "\n",
    "\n",
    "\n",
    "categorical_data = [ 'mode_vent',\n",
    " 'ecmo_type',\n",
    " 'neuro_status',\n",
    " 'gender',\n",
    " 'admission_type']\n",
    "numerical_data = ['age','poids_suivi_mean','spo2_mean', 'temp_mean', 'pas_mean', 'pad_mean', 'pam_mean', 'fr_mean', 'heart_rate_mean',\n",
    " 'dobu_dose_poids_mean', 'nad_dose_poids_mean', 'glyc_cap_mean', 'tp_mean', 'creat_mean', 'bili_tot_mean', 'num_plq_mean', 'leucocytes_mean', 'lactate_mean', 'hemoglobine_mean',\n",
    " 'fio2_corr_mean', \n",
    " 'urine_rate_mean','spo2_std', 'temp_std', 'pas_std', 'pad_std', 'pam_std', 'fr_std', 'heart_rate_std', 'dobu_dose_poids_std', 'nad_dose_poids_std', 'glyc_cap_std',\n",
    " 'tp_std', 'creat_std', 'bili_tot_std', 'num_plq_std', 'leucocytes_std', 'lactate_std', 'hemoglobine_std', 'fio2_corr_std', 'urine_rate_std',  'poids_suivi_std',\n",
    " 'poids_suivi_mean', 'iv_input']\n",
    "\n",
    "df[['cgr']] = df[['cgr']] > 3\n",
    "df[['plq']] = df[['plq']] > 0\n",
    "df[['pfc']] = df[['pfc']] > 0\n",
    "\n",
    "drop = [ 'is_ventilated_std', 'is_prone_std']\n",
    "\n",
    "df_prepared = df.drop(columns=drop)\n",
    "\n",
    "df_prepared[['cgr']] = (df[['cgr']] > 3).astype(int)\n",
    "df_prepared[['plq']] = (df[['plq']] > 0).astype(int)\n",
    "df_prepared[['pfc']] = (df[['pfc']] > 0).astype(int)\n",
    "\n",
    "\n",
    "df_prepared['inf_j30'] = df_prepared['inf_j30'].astype(int)\n",
    "\n",
    "for col in categorical_data :\n",
    "    df_prepared[[col]] = encoder.fit_transform(df_prepared[[col]])\n",
    "\n",
    "for col in numerical_data :\n",
    "    df_prepared[[col]] = scaler.fit_transform(df_prepared[[col]])"
   ]
  },
  {
   "cell_type": "code",
   "execution_count": null,
   "id": "e32715e9",
   "metadata": {},
   "outputs": [],
   "source": [
    "df_prepared.dtypes"
   ]
  },
  {
   "cell_type": "code",
   "execution_count": null,
   "id": "5da2d58f",
   "metadata": {},
   "outputs": [],
   "source": [
    "df_prepared['inf_j30'].value_counts()"
   ]
  },
  {
   "cell_type": "code",
   "execution_count": null,
   "id": "3b2fb2da",
   "metadata": {},
   "outputs": [],
   "source": [
    "no_encounter = df_prepared.iloc[:,2:].astype(float)"
   ]
  },
  {
   "cell_type": "code",
   "execution_count": null,
   "id": "1c08755b",
   "metadata": {},
   "outputs": [],
   "source": []
  },
  {
   "cell_type": "code",
   "execution_count": null,
   "id": "0aa54e1c",
   "metadata": {},
   "outputs": [],
   "source": [
    "no_encounter.astype(float)"
   ]
  },
  {
   "cell_type": "code",
   "execution_count": null,
   "id": "df3f6206",
   "metadata": {},
   "outputs": [],
   "source": [
    "\n",
    "# ----- FEATURES / TARGET -----\n",
    "target_col = 'inf_j30'\n",
    "X = no_encounter.drop(columns=['inf_j30', 'los'])\n",
    "y = no_encounter[target_col]\n",
    "\n",
    "# ----- VIF REDUCTION -----\n",
    "X = X.astype(float)  # Ensure all columns are float for VIF compatibility\n",
    "vif_data = pd.DataFrame()\n",
    "vif_data[\"feature\"] = X.columns\n",
    "vif_values = [variance_inflation_factor(X.values, i) for i in range(X.shape[1])]\n",
    "vif_data[\"VIF\"] = vif_values\n",
    "features_to_keep = vif_data.loc[vif_data[\"VIF\"] < 10, \"feature\"]\n",
    "X = X[features_to_keep]\n",
    "\n",
    "# ----- SPLIT DATA -----\n",
    "X_temp, X_test, y_temp, y_test = train_test_split(X, y, test_size=0.2, stratify=y, random_state=42)\n",
    "X_train, X_val, y_train, y_val = train_test_split(X_temp, y_temp, test_size=0.25, stratify=y_temp, random_state=42)\n",
    "\n",
    "# ----- SCALING -----\n",
    "scaler = StandardScaler()\n",
    "X_train_scaled = scaler.fit_transform(X_train)\n",
    "X_val_scaled = scaler.transform(X_val)\n",
    "X_test_scaled = scaler.transform(X_test)\n",
    "\n",
    "# ----- MODELS -----\n",
    "models = {\n",
    "    'log_reg': LogisticRegression(class_weight='balanced', max_iter=1000),\n",
    "    'random_forest': RandomForestClassifier(class_weight='balanced', random_state=42),\n",
    "    'xgboost': XGBClassifier(scale_pos_weight=(y_train == 0).sum() / (y_train == 1).sum(), use_label_encoder=False, eval_metric='logloss')\n",
    "}\n",
    "\n",
    "params = {\n",
    "    'log_reg': {'C': [0.01, 0.1, 1, 10]},\n",
    "    'random_forest': {'n_estimators': [100, 200], 'max_depth': [5, 10]},\n",
    "    'xgboost': {'n_estimators': [100, 200], 'max_depth': [3, 6]}\n",
    "}\n",
    "\n",
    "best_models = {}\n",
    "\n",
    "for name, model in models.items():\n",
    "    print(f\"Training {name}...\")\n",
    "    grid = GridSearchCV(model, params[name], cv=StratifiedKFold(n_splits=5), scoring='roc_auc', n_jobs=-1)\n",
    "    grid.fit(X_train_scaled, y_train)\n",
    "    best_models[name] = grid.best_estimator_\n",
    "    print(f\"Best AUC on validation ({name}):\", roc_auc_score(y_val, grid.predict_proba(X_val_scaled)[:, 1]))\n",
    "    joblib.dump(grid.best_estimator_, f\"best_model_{name}.joblib\")\n",
    "\n",
    "# ----- HOSMER-LEMESHOW PLOT -----\n",
    "def plot_hosmer_lemeshow(y_true, y_probs, n_bins=10):\n",
    "    prob_true, prob_pred = calibration_curve(y_true, y_probs, n_bins=n_bins)\n",
    "    plt.figure()\n",
    "    plt.plot(prob_pred, prob_true, marker='o')\n",
    "    plt.plot([0, 1], [0, 1], linestyle='--')\n",
    "    plt.title('Hosmer-Lemeshow Calibration')\n",
    "    plt.xlabel('Predicted probability')\n",
    "    plt.ylabel('True probability')\n",
    "    plt.grid()\n",
    "    plt.show()\n",
    "\n",
    "# Example: plot HL for best logistic regression\n",
    "probs = best_models['log_reg'].predict_proba(X_val_scaled)[:, 1]\n",
    "plot_hosmer_lemeshow(y_val, probs)\n",
    "\n",
    "# Save scaler too\n",
    "joblib.dump(scaler, \"scaler.joblib\")"
   ]
  }
 ],
 "metadata": {
  "language_info": {
   "name": "python"
  }
 },
 "nbformat": 4,
 "nbformat_minor": 5
}
