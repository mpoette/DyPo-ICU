{
 "cells": [
  {
   "cell_type": "code",
   "execution_count": null,
   "id": "04bfb8c1",
   "metadata": {},
   "outputs": [],
   "source": [
    "import polars as pl\n",
    "import json"
   ]
  },
  {
   "cell_type": "code",
   "execution_count": null,
   "id": "be70eb69",
   "metadata": {},
   "outputs": [],
   "source": [
    "with open('../params.json', 'r') as file :\n",
    "    params = json.load(file)\n",
    "\n",
    "DATASET, VERSION = params['dataset'], params['version']\n",
    "DATA_FOLD = params['data_folder']"
   ]
  },
  {
   "cell_type": "code",
   "execution_count": null,
   "id": "e1023ec0",
   "metadata": {},
   "outputs": [],
   "source": [
    "df = pl.read_parquet(f'{DATA_FOLD}/{VERSION}/2.clean_data/{DATASET}/static/clean_static_encounters.parquet')"
   ]
  },
  {
   "cell_type": "code",
   "execution_count": null,
   "id": "f7f88806",
   "metadata": {},
   "outputs": [],
   "source": [
    "df.head()"
   ]
  },
  {
   "cell_type": "code",
   "execution_count": null,
   "id": "b37c5083",
   "metadata": {},
   "outputs": [],
   "source": [
    "df.filter((pl.col(['motif_adm']).str.contains_any(['sepsis', 'septique', 'infect'])))"
   ]
  },
  {
   "cell_type": "code",
   "execution_count": null,
   "id": "78a228f8",
   "metadata": {},
   "outputs": [],
   "source": [
    "import pandas as pd\n",
    "import numpy as np\n",
    "\n",
    "s = pd.Series([np.nan, 1, np.nan, 3, 4, 7, 8, 9, 10, np.nan])\n",
    "\n",
    "s.interpolate(method='linear', limit_direction='both')"
   ]
  }
 ],
 "metadata": {
  "language_info": {
   "name": "python"
  }
 },
 "nbformat": 4,
 "nbformat_minor": 5
}
