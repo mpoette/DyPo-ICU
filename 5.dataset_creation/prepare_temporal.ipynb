{
 "cells": [
  {
   "cell_type": "code",
   "execution_count": null,
   "id": "9211fbdb",
   "metadata": {},
   "outputs": [],
   "source": [
    "import polars as pl\n",
    "import numpy as np\n",
    "import pandas as pd\n",
    "import json\n",
    "from tqdm import tqdm\n",
    "import warnings\n",
    "warnings.filterwarnings('ignore')"
   ]
  },
  {
   "cell_type": "code",
   "execution_count": null,
   "id": "4e65cd92",
   "metadata": {},
   "outputs": [],
   "source": [
    "with open('../params.json', 'r') as file :\n",
    "    params = json.load(file)\n",
    "\n",
    "DATASET, VERSION = params['dataset'], params['version']\n",
    "DATA_FOLD = params['data_folder']"
   ]
  },
  {
   "cell_type": "code",
   "execution_count": null,
   "id": "ffaecffe",
   "metadata": {},
   "outputs": [],
   "source": [
    "static = pl.read_parquet(f'{DATA_FOLD}/{VERSION}/2.clean_data/{DATASET}/static/clean_static_encounters.parquet')\n",
    "temporal = pl.read_parquet(f'{DATA_FOLD}/{VERSION}/2.clean_data/{DATASET}/temporal/all_features_with_delta.parquet')"
   ]
  },
  {
   "cell_type": "code",
   "execution_count": null,
   "id": "ad7897c1",
   "metadata": {},
   "outputs": [],
   "source": [
    "temporal.columns"
   ]
  },
  {
   "cell_type": "code",
   "execution_count": null,
   "id": "45bd5ce2",
   "metadata": {},
   "outputs": [],
   "source": [
    "valid_patients = temporal.filter(\n",
    "    (pl.col(\"heart_rate\").is_not_null()) | (pl.col(\"spo2\").is_not_null())\n",
    ").select(\"encounterId\").unique()"
   ]
  },
  {
   "cell_type": "code",
   "execution_count": null,
   "id": "0a7a504e",
   "metadata": {},
   "outputs": [],
   "source": [
    "temporal_valid = temporal.filter(pl.col('encounterId').is_in(valid_patients.to_series().to_list()))"
   ]
  },
  {
   "cell_type": "code",
   "execution_count": null,
   "id": "3e6c049b",
   "metadata": {},
   "outputs": [],
   "source": [
    "valid_ts = temporal.with_columns(\n",
    "    pl.when((pl.col(\"heart_rate\").is_not_null()) | (pl.col(\"spo2\").is_not_null()))\n",
    "    .then(pl.col(\"delta_hour\"))\n",
    "    .otherwise(None)\n",
    "    .alias(\"first_valid_timestamp\")\n",
    ")\n",
    "\n",
    "first_ts = valid_ts.group_by(\"encounterId\").agg(\n",
    "    [\n",
    "        pl.col(\"first_valid_timestamp\").min().alias(\"first_timestamp\")\n",
    "    ]\n",
    ")"
   ]
  },
  {
   "cell_type": "code",
   "execution_count": null,
   "id": "e3189ae3",
   "metadata": {},
   "outputs": [],
   "source": [
    "offset_delta = (temporal_valid\n",
    "    .join(first_ts, on=\"encounterId\", how=\"left\")\n",
    "    .with_columns(\n",
    "            (pl.col(\"delta_hour\") - pl.col(\"first_timestamp\")).alias(\"delta_hour\")\n",
    "        )\n",
    "    .drop(\"first_timestamp\")\n",
    ")"
   ]
  },
  {
   "cell_type": "code",
   "execution_count": null,
   "id": "498ae41c",
   "metadata": {},
   "outputs": [],
   "source": [
    "merge_pressure = offset_delta.with_columns(\n",
    "    pl.when(pl.col('pas_invasive').is_not_null()).then(pl.col('pas_invasive')).when(pl.col('pas_non_invasive').is_not_null()).then(pl.col('pas_non_invasive')).otherwise(None).alias('pas'),\n",
    "    pl.when(pl.col('pad_invasive').is_not_null()).then(pl.col('pad_invasive')).when(pl.col('pad_non_invasive').is_not_null()).then(pl.col('pad_non_invasive')).otherwise(None).alias('pad'),\n",
    "    pl.when(pl.col('pam_invasive').is_not_null()).then(pl.col('pam_invasive')).when(pl.col('pam_non_invasive').is_not_null()).then(pl.col('pam_non_invasive')).otherwise(None).alias('pam'),\n",
    ").drop(\n",
    "    'pas_invasive', 'pas_non_invasive', 'pad_invasive', 'pad_non_invasive', 'pam_invasive', 'pam_non_invasive'\n",
    ")"
   ]
  },
  {
   "cell_type": "code",
   "execution_count": null,
   "id": "ce331340",
   "metadata": {},
   "outputs": [],
   "source": [
    "merge_eer = merge_pressure.with_columns(\n",
    "    pl.when(pl.col('db_sang_cvvhf').is_not_null()).then(pl.lit('cvvhf'))\n",
    "    .when(pl.col('db_sang_hdi').is_not_null()).then(pl.lit('hdi'))\n",
    "    .otherwise(pl.lit(None)).alias('eer')\n",
    ").drop(\n",
    "    'db_sang_cvvhf', 'db_sang_hdi'\n",
    ")"
   ]
  },
  {
   "cell_type": "code",
   "execution_count": null,
   "id": "1aec3b6a",
   "metadata": {},
   "outputs": [],
   "source": [
    "prone = merge_eer.with_columns(\n",
    "    pl.when(pl.col('installation').is_not_null()).then(True).otherwise(False).alias('is_prone')\n",
    ").drop('installation')"
   ]
  },
  {
   "cell_type": "code",
   "execution_count": null,
   "id": "30ab2835",
   "metadata": {},
   "outputs": [],
   "source": [
    "# Modes contrôlés\n",
    "controlled_modes = [\n",
    "    'Ventilation Contrôlée', 'Pression Contrôlée', 'PC', 'VC', 'PC Mode pédiatrique',\n",
    "    'PC VG', 'Pression Contrôlée Volume Garanti', 'Ventilation Oscillatoire à Haute Fréquence',\n",
    "    'Ventilation Oscillatoire à Haute Fréquence Volume Garanti', 'Jet ventilation à haute fréquence',\n",
    "    'APRV', 'PC APRV', 'BI-VENT/ APRV', 'BIVENT/APRV', 'PC - APRV', 'PC-BIPAP', 'bipap pc', 'VPC',\n",
    "    'Bivent', \"Ventilation d'apnée\", 'S/T', 'VNI PC', 'AVAPS',\n",
    "    'Ventilation Assistée Contrôlée (VAC)', 'VAC', 'Ventilation Assistée Contrôlée Intermittente (VACI)',\n",
    "    'VACI', 'vac sur fibroaspiration'\n",
    "]\n",
    "\n",
    "# Modes assistés\n",
    "assisted_modes = [\n",
    "    'Ventilation Spontanée Aide Inspiratoire (VSAI)', 'VSAI avec hoquet', 'VSAI pro',\n",
    "    'AI pro', 'AI-pro', 'Ai Pro', 'AI PRO', 'VAI pro', 'aipro', 'AIPro',\n",
    "    'NAVA', 'Ventilation Non Invasive NAVA', 'SPN-VS-PEP/AI', 'SPN-VS-PEP',\n",
    "    'VS-PEP / Optiflow', 'VS CP', 'AI/VS PEP'\n",
    "]\n",
    "\n",
    "# OHD\n",
    "ohd_modes = [\n",
    "    'OHD', 'Ventilation spontanée + pression expiratoire positive / OHD',\n",
    "    'OHD + ballonnet dégonflé','Optitrach', 'optitrach', 'Opti trach', 'Opti-trach', 'Trach-flow',\n",
    "]\n",
    "\n",
    "# VNI/CPAP\n",
    "vni_cpap_modes = [\n",
    "    'VNI', 'Ventilation Non Invasive', 'VNI perso', 'VNI SAS perso', 'Ventilation Non Invasive Pression controlée',\n",
    "    'BiPAP', 'bipap', 'BIPAP', 'bilevel', 'bilevel/aprv', 'CPAP', 'cpap', 'Cpap', 'C-pap',\n",
    "    'C PAP', 'c PAP', 'PPC', 'CP', 'CPAP perso', 'cpap perso', 'cpap Perso', 'CPAP Perso',\n",
    "    'CPAP personnelle', 'CPAP personelle', 'CPAP PERSO', 'CiPAP', 'CIPAP', 'cipap', 'CiPaP',\n",
    "    'CiPap', 'Ci-PAP', 'ci pap', 'Cipap', 'CiPap perso', 'Cipap perso', 'CiPAP perso', 'cipap perso',\n",
    "    'Cipap Perso', 'CIPAP perso', 'CIPAP Perso', 'CIPAP PERSO', 'CIPAP perso 1h', 'CIPAP personnelle',\n",
    "    'CiPAP perso', 'CIPPAP', 'CiPaP perso', 'ci pap', 'ciPap', 'CI-PAP', 'cIPAP', 'Valve Boussignac',\n",
    "    'VNI Helmet', 'V60', 'PPC domicile', 'cpap/VS', 'Cpap Perso', 'VAC s/ VNI', 'NNI 50% 8AI 8PEP'\n",
    "]\n",
    "\n",
    "# Modes sevrage\n",
    "weaning_modes = [\n",
    "    'Tube en T', 'tube en t', 'TUBE EN T', 'tube en T', 'Tube T', 'T-TUBE', 'tube T O2 5L/min', 'tube en T 5l/min',\n",
    "    'embout t', 'Embout en T', 'Enbout en T', 'test 7/0', 'TEST 7/0', 'Test 7/0', 'test 7-0', 'test 8-0',\n",
    "    'test ZEP', 'tEST DE ZEEP', 'Test Zeep', 'test zeep', 'TEST DE ZEEP', 'test de capnie', 'Test tube en T', 'test de sevrage tube T', 'test sevrage',\n",
    "    'Test de sevrage ventilatoire', 'épreuve de sevrage', 'Test', 'TEST SEVRAGE', 'stop VSAI',\n",
    "    'Test de sevrage avec filtre', 'séance de déventilation', 'Déventilation', 'EOT par MDG',\n",
    "    'Echec VSAI', '+ test hypercapnie', 'Test de ZEEP'\n",
    "]\n",
    "\n",
    "# Non assistés par un dispositif\n",
    "non_assisted_modes = [\n",
    "    'None', 'Aucun/arrêt ventilateur', 'Arrêt ventilateur', 'auto EOT', 'EOT', 'extubation', 'extubé',\n",
    "    'Extubation 14h', 'Extubation terminale', 'auto-extubation', 'auto extubation', 'décannulation',\n",
    "    'décanuler', 'Décanulation', 'air ambiant', 'airpo', 'lunettes', 'lunettes a 4 l', 'lunettes a 6 litres',\n",
    "    'lunette 4l', 'lunettes 4L/min', 'Lunettes', 'nez', 'Pour repas', 'Trachvent', 'trachvent', 'trach vent',\n",
    "    'trach vent 1L', 'trach vent 2L', 'trach vent 4L', 'Trach Vent', 'Trach Vent 4L', 'trach vent 4l O2',\n",
    "     'Canule phonatoire',\n",
    "    'VS canule phonatoire', 'Canule pho obstruée', 'canule pho obstruée', 'Canule phonoatoire obturée',\n",
    "    'CP Obstruée', 'ballonnet dégonflé', 'Ballonet dégonflé', 'ballonnet gonflée', 'Ballonet gonflé',\n",
    "    'O2 4L tracheo', '3l o2 embout T', 'MMC', 'MMC 3,5L', 'KINE R', 'chryco BAVU', 'BAVU', 'trackvent',\n",
    "    'track vent', 'tach vent', 'tachvent', 'Aérosol Nacl', 'VS', 'vs', 'VST', 'Respi perso',\n",
    "    'intubation en urgence', 'extube', 'Lunettes A 2LITRES', 'LUNETTES A 2LITRES', 'Test hypercapnie', 'test hypercapnie', \n",
    "    'Test HyperCO²', 'test hypercapnie'\n",
    "]\n"
   ]
  },
  {
   "cell_type": "code",
   "execution_count": null,
   "id": "8e9b8712",
   "metadata": {},
   "outputs": [],
   "source": [
    "mode_vent = prone.with_columns(\n",
    "    pl.when(pl.col('mode_vent').is_in(controlled_modes)).then(pl.lit('Controlled'))\n",
    "    .when(pl.col('mode_vent').is_in(assisted_modes)).then(pl.lit('Assisted'))\n",
    "    .when(pl.col('mode_vent').is_in(ohd_modes)).then(pl.lit('OHD'))\n",
    "    .when(pl.col('mode_vent').is_in(vni_cpap_modes)).then(pl.lit('VNI/CPAP'))\n",
    "    .when(pl.col('mode_vent').is_in(weaning_modes)).then(pl.lit('Weaning'))\n",
    "    .when(pl.col('mode_vent').is_in(non_assisted_modes)).then(pl.lit('Non-assisted'))\n",
    "    .otherwise(None).alias(\"mode_vent\")\n",
    ")"
   ]
  },
  {
   "cell_type": "code",
   "execution_count": null,
   "id": "3363d3c8",
   "metadata": {},
   "outputs": [],
   "source": [
    "mode_vent"
   ]
  },
  {
   "cell_type": "code",
   "execution_count": null,
   "id": "2b348189",
   "metadata": {},
   "outputs": [],
   "source": [
    "# Conscient / Normal\n",
    "conscient_normal = [\n",
    "    'Conscient', 'conscient', 'Coopérant', 'Dort', 'dort', 'DORT', 'Endormi', 'Somnolent',\n",
    "    'somnolent', 'Somnolent mais éveillable', 'Dort, réveillable', 'dort, réveillable', 'Dors', 'vigile',\n",
    "     'éveillée', 'Eveil','Conscient ROS des yeux',\n",
    "    'Consciente avec sédations'\n",
    "]\n",
    "\n",
    "confusion_delire = [\n",
    "    'Confus', 'confus', 'Confuse', 'confuse', 'Désorienté', 'désorienté', 'desorientation temporelle',\n",
    "    'Délirante'\n",
    "]\n",
    "\n",
    "# Altération légère (confusion, désorientation)\n",
    "alteration_legere = [\n",
    "    \n",
    "    'apathique', 'Asthénique +++', 'Ralentie ++', \n",
    "]\n",
    "\n",
    "# Coma (non sédaté)\n",
    "tb_vigilance_non_sedate = [\n",
    "    'Coma', 'coma', 'Coma réactif', 'Coma vigile', 'coma réactif neuro sédaté', 'coma faiblement réactif',\n",
    "    'Coma aréactif', 'coma aréactif', 'Aréactif', 'Coma hors sédation depuis 8h45',\n",
    "    'COMA hors sédations 16/08 12h', 'ROS yeux fermés', 'Absence de ROS', \"absence d'ouverture des yeux\",\n",
    "    \"Pas d'O des Y\", 'Aucune ouverture des Y', \"pas d'ouverture des yeux\", 'Clignement à la menace',\n",
    "    'Auditif', 'Auditive', 'Réponses aux ordres', 'Vigile', \n",
    "    'ouverture yeux spontanée', \"Ouverture yeux à l'appel\", 'Ouverture des yeux', 'Pas de contact visuel',\n",
    "    'inconscient', 'insconscient', 'Clonies', 'clonies','crise convulsive', 'post Crise tonico clonique',\n",
    "    'Arrêt sédations', 'Arrêt des sédations', 'arret des sédations', 'arret ds sédations',\n",
    "    'arret sédations', 'Arret sédations', 'Arret des sedations', 'STOP sedation', 'stop sedation',\n",
    "    'stop sédation', 'Stop Sédations', 'Stop sedation', 'Stop sédations', 'ouvre les yeux',\n",
    "    'Légère sédation', 'Légèrment sédaté', 'Sédation légère, reveillable', 'Sédation séquence rapide',\n",
    "    'perte de contact' ]\n",
    "\n",
    "# Coma sous sédation\n",
    "coma_sous_sedation = [\n",
    "    'Coma neuro sédaté', 'Coma neuro-sédaté', 'coma neuro sédaté curarisé', 'Coma neurosédaté +/- conscient',\n",
    "    'neurosédaté', 'Coma analgo sédaté', 'Coma analgo-sédaté', 'Coma analgosédaté', 'Coma analgosédation',\n",
    "    'Coma analgo sedaté', 'coma analgo sédaté', 'coma analgosédaté', 'coma analgo-sédaté', 'Coma Analgosédaté',\n",
    "    'coma analago sedaté', 'Coma anlago sédaté', 'Coma analgo sésaté', 'Analgo-Sédation', 'Analgo-sédation',\n",
    "    'Analgo sédation', 'analgo sédation', 'Analgo sédaté', 'analgo-sédaté', 'analgosédation', 'Analgosédation',\n",
    "    'Analgosédation*', 'Analgosedation', 'Analgo-sedation', 'Analgo -Sedation', 'analgosedation',\n",
    "    'ANALGOSEDATION', 'analgo sedation', 'Analgo sédatée', 'Analgo sédaté', 'Légère analgosédation',\n",
    "    'Neuroanalgesie', 'Analgo sedation', 'analgésie', 'ANALGESIE', 'Analgésie', 'coma + analgésie',\n",
    "    'Curarisé', 'curarisé', 'Sédations de confort', 'coma sédation de confort', 'sédation de confort',\n",
    "    'sous propo pour colo', 'Sédation pour test de fuite', 'Sedation paliative', 'Sédation terminale',\n",
    "    'sédations terminale'\n",
    "]\n",
    "\n",
    "\n",
    "# Mort encéphalique / Décès\n",
    "mort_encephalique_deces = [\n",
    "    'Mort encéphalique', 'mort encéphalique', 'Mort cérébrale', 'Mort encephalique', 'mort encéphlique',\n",
    "    'MORT ENCEPHALIQUE', 'mORT ENCEPHALIQUE CLINIQUE', 'Mort encéphalique clinique', 'mort encéphalique clinique',\n",
    "    'Etat de mort encéphalique', 'Etat de mort encéphal clinique', 'état mort encéphalique cliniqu',\n",
    "    'mort encéphalique paraclinique', 'Décédé', 'DECES', 'DCD le 27.02 à 0h29', 'paetiente décédée',\n",
    "    'décès', 'ME', 'Diagnostic clinique EME', 'diagnostique clinique ME', 'EME', 'EME clinique',\n",
    "    'EME Clinique', 'EMC', 'Accompagnement fin de vie', 'Accompgnement fin de vie', 'accompagnement fin de vie',\n",
    "    'Fin de vie', 'ACR', \"Test d'hypercapnie +\", 'Test hypercapnie + à 11h', 'Test hypercapnie poitif'\n",
    "]\n",
    "\n",
    "# Agitation / Anxiété\n",
    "agitation_anxiete = [\n",
    "    'Agité', 'agité', 'reveille agité sans reponses', 'anxieux', 'anxieu', 'anxieuse', 'Anxieuse ++',\n",
    "    'Anxieux +++', 'angoissée', 'Nerveux', 'nerveux', 'opposant', 'non coopérent aux soins',\n",
    "    'inconforatable',  'Clonies de la face'\n",
    "]\n",
    "\n"
   ]
  },
  {
   "cell_type": "code",
   "execution_count": null,
   "id": "b49ae7e7",
   "metadata": {},
   "outputs": [],
   "source": [
    "neuro_status = mode_vent.with_columns(\n",
    "    pl.when(pl.col('neuro_status').is_in(conscient_normal)).then(pl.lit('Conscient/Normal'))\n",
    "    .when(pl.col('neuro_status').is_in(coma_sous_sedation)).then(pl.lit('Coma sous sédation'))\n",
    "    .when(pl.col('neuro_status').is_in(alteration_legere)).then(pl.lit('Alteration légère'))\n",
    "    .when(pl.col('neuro_status').is_in(confusion_delire)).then(pl.lit('Confusion/Delirium'))\n",
    "    .when(pl.col('neuro_status').is_in(agitation_anxiete)).then(pl.lit('Agitation/Anxiété'))\n",
    "    .when(pl.col('neuro_status').is_in(tb_vigilance_non_sedate)).then(pl.lit('Altération vigilance (non sédaté)'))\n",
    "    .when(pl.col('neuro_status').is_in(mort_encephalique_deces)).then(pl.lit('Mort encéphalique / Décès'))\n",
    "    .otherwise(None).alias(\"neuro_status\")\n",
    ")"
   ]
  },
  {
   "cell_type": "code",
   "execution_count": null,
   "id": "0ac793d7",
   "metadata": {},
   "outputs": [],
   "source": [
    "neuro_status.columns"
   ]
  },
  {
   "cell_type": "code",
   "execution_count": null,
   "id": "782bf7a2",
   "metadata": {},
   "outputs": [],
   "source": [
    "neuro_status.filter(pl.col('admin_o2') == 'Air ambiant')"
   ]
  },
  {
   "cell_type": "code",
   "execution_count": null,
   "id": "0937c5ca",
   "metadata": {},
   "outputs": [],
   "source": [
    "fio2_corr = neuro_status.with_columns(\n",
    "    pl.when(pl.col('fio2').is_not_null()).then(pl.col('fio2'))\n",
    "    .when(pl.col('admin_o2') == 'Air ambiant').then(pl.lit(21))\n",
    "    .when(pl.col('o2_flow').is_between(0,15)).then((pl.col('o2_flow') * 4 + 21))\n",
    "    .alias('fio2_corr')\n",
    ")"
   ]
  },
  {
   "cell_type": "code",
   "execution_count": null,
   "id": "98f634af",
   "metadata": {},
   "outputs": [],
   "source": [
    "poids_static = static.select(['encounterId', 'poids_admission']).cast(\n",
    "    {\"encounterId\" : pl.Int32}\n",
    ")\n",
    "\n",
    "poids_corr = fio2_corr.join(poids_static, on='encounterId', how='left').with_columns(\n",
    "    pl.when((pl.col('poids_suivi').is_null()) & (pl.col('delta_hour') == 0)).then(pl.col('poids_admission'))\n",
    "    .otherwise(pl.col('poids_suivi')).alias('poids_suivi')\n",
    ").drop('poids_admission')"
   ]
  },
  {
   "cell_type": "code",
   "execution_count": null,
   "id": "4be6dbcb",
   "metadata": {},
   "outputs": [],
   "source": [
    "linear_interpolate_both = ['poids_suivi', 'pplat', 'spo2', 'temp', \n",
    "        'fr', 'heart_rate' , 'glyc_cap', 'tp', 'creat', 'bili_tot', 'num_plq',\n",
    "       'leucocytes', 'lactate', 'hemoglobine', 'pas', 'pad', 'pam', 'fio2_corr']\n",
    "\n",
    "linear_interpolate_inside = ['tidal_volume', 'pep','nad_dose_poids', 'dobu_dose_poids', 'fio2','o2_flow']\n",
    "\n",
    "category = ['admin_o2', 'mode_vent', 'neuro_status']\n",
    "\n",
    "interpolate_df = poids_corr.to_pandas()\n"
   ]
  },
  {
   "cell_type": "code",
   "execution_count": null,
   "id": "dd2559d0",
   "metadata": {},
   "outputs": [],
   "source": [
    "def compute_urine_rate(df: pd.DataFrame,\n",
    "                       time_col: str = 'delta_hour',\n",
    "                       urine_col: str = 'urine_output',\n",
    "                       output_col: str = 'urine_rate') -> pd.DataFrame:\n",
    "    df = df.copy()\n",
    "    df = df.sort_values(by=time_col).reset_index(drop=True)\n",
    "\n",
    "    df[output_col] = np.nan\n",
    "\n",
    "    last_index = None\n",
    "    last_time = None\n",
    "\n",
    "    for i in range(len(df)):\n",
    "        val = df.loc[i, urine_col]\n",
    "        if val != 0:\n",
    "            if last_index is None:\n",
    "                # Depuis le début jusqu'à la première valeur non nulle\n",
    "                interval = df.loc[i, time_col]\n",
    "                if interval == 0:\n",
    "                    rate = val\n",
    "                    df.loc[i, output_col] = rate\n",
    "                else:\n",
    "                    rate = val / interval\n",
    "                    df.loc[:i, output_col] = rate\n",
    "            else:\n",
    "                # Depuis la dernière mesure non nulle\n",
    "                delta_t = df.loc[i, time_col] - df.loc[last_index, time_col]\n",
    "                if delta_t == 0:\n",
    "                    rate = val\n",
    "                    df.loc[i, output_col] = rate\n",
    "                else:\n",
    "                    rate = val / delta_t\n",
    "                    df.loc[last_index+1:i+1, output_col] = rate\n",
    "            last_index = i\n",
    "            last_time = df.loc[i, time_col]\n",
    "\n",
    "    # Optionnel : interpolation linéaire pour lisser encore plus\n",
    "    df[output_col] = df[output_col].interpolate(method='linear')\n",
    "\n",
    "    return df"
   ]
  },
  {
   "cell_type": "code",
   "execution_count": null,
   "id": "6b5944d6",
   "metadata": {},
   "outputs": [],
   "source": [
    "interpolate_df.columns"
   ]
  },
  {
   "cell_type": "code",
   "execution_count": null,
   "id": "3840548b",
   "metadata": {},
   "outputs": [],
   "source": [
    "encounter_list = static.filter(pl.col('utcInTime').dt.year() > 2022)['encounterId'].unique().cast(dtype=pl.Int32).to_list()"
   ]
  },
  {
   "cell_type": "code",
   "execution_count": null,
   "id": "42941139",
   "metadata": {},
   "outputs": [],
   "source": [
    "subset_sup_2023 = interpolate_df[interpolate_df.encounterId.isin(encounter_list)]"
   ]
  },
  {
   "cell_type": "code",
   "execution_count": null,
   "id": "6c881725",
   "metadata": {},
   "outputs": [],
   "source": [
    "for encounter in tqdm(subset_sup_2023.encounterId.unique().tolist()):\n",
    "    mask = subset_sup_2023.encounterId==encounter\n",
    "    subset_sup_2023.loc[mask, linear_interpolate_both] = subset_sup_2023.loc[mask, linear_interpolate_both].interpolate(method='linear', limit_direction='both')\n",
    "    subset_sup_2023.loc[mask, linear_interpolate_inside] = subset_sup_2023.loc[mask, linear_interpolate_inside].interpolate(method='linear', limit_area='inside')\n",
    "    subset_sup_2023.loc[mask, category] = subset_sup_2023.loc[mask, category].ffill().bfill()\n",
    "    mask = subset_sup_2023.encounterId==encounter\n",
    "    subset = subset_sup_2023.loc[mask, ['delta_hour', 'urine_output']].copy()\n",
    "    if subset['urine_output'].notna().any():\n",
    "        urine_rate_df = compute_urine_rate(subset)\n",
    "        subset_sup_2023.loc[mask, 'urine_rate'] = urine_rate_df['urine_rate'].values\n",
    "\n",
    "subset_sup_2023['is_ventilated'] = subset_sup_2023['mode_vent'].isin(['Controlled', 'Assisted', 'Weaning'])\n",
    "subset_sup_2023 = subset_sup_2023.drop(columns=['endotracheal_tube'])\n"
   ]
  },
  {
   "cell_type": "code",
   "execution_count": null,
   "id": "f7d092ff",
   "metadata": {},
   "outputs": [],
   "source": [
    "if_missing_then_default = {'nad_dose_poids' : 0, \n",
    "                           'dobu_dose_poids' : 0, \n",
    "                           'urine_rate' : 0, \n",
    "                           'o2_flow': 0,\n",
    "                           'mode_vent': 'non_renseigné',\n",
    "                           'neuro_status' : 'non_renseigné',\n",
    "                           'eer' : 'sans_eer'\n",
    "                        }   \n",
    "for col,def_value in if_missing_then_default.items() :\n",
    "    subset_sup_2023.loc[subset_sup_2023[col].isnull(),col] = def_value"
   ]
  },
  {
   "cell_type": "code",
   "execution_count": null,
   "id": "d95c796d",
   "metadata": {},
   "outputs": [],
   "source": [
    "for col in subset_sup_2023.columns :\n",
    "    sum_null = subset_sup_2023[col].isnull().sum()\n",
    "    print(f'{sum_null} pour colonne {col}')"
   ]
  },
  {
   "cell_type": "code",
   "execution_count": null,
   "id": "abb23572",
   "metadata": {},
   "outputs": [],
   "source": [
    "subset_sup_2023.loc[subset_sup_2023['heart_rate'].isnull()]"
   ]
  },
  {
   "cell_type": "code",
   "execution_count": null,
   "id": "18ed7a57",
   "metadata": {},
   "outputs": [],
   "source": [
    "import seaborn as sns\n",
    "\n",
    "sns.histplot(data=subset_sup_2023, x='o2_flow')"
   ]
  }
 ],
 "metadata": {
  "language_info": {
   "name": "python"
  }
 },
 "nbformat": 4,
 "nbformat_minor": 5
}
