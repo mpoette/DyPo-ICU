{
 "cells": [
  {
   "cell_type": "code",
   "execution_count": null,
   "id": "2f206274",
   "metadata": {},
   "outputs": [],
   "source": [
    "import pandas as pd\n",
    "import numpy as np\n",
    "import matplotlib.pyplot as plt\n",
    "import seaborn as sns\n",
    "import json"
   ]
  },
  {
   "cell_type": "code",
   "execution_count": null,
   "id": "e059b6ab",
   "metadata": {},
   "outputs": [],
   "source": [
    "with open('../params.json', 'r') as file :\n",
    "    params = json.load(file)\n",
    "\n",
    "DATASET, VERSION = params['dataset'], params['version']\n",
    "DATA_FOLD = params['data_folder']"
   ]
  },
  {
   "cell_type": "code",
   "execution_count": null,
   "id": "a08348e4",
   "metadata": {},
   "outputs": [],
   "source": [
    "static = pd.read_parquet(f'{DATA_FOLD}/{VERSION}/2.clean_data/{DATASET}/static/clean_static_encounters.parquet')\n",
    "temporal = pd.read_parquet(f'{DATA_FOLD}/{VERSION}/2.clean_data/{DATASET}/temporal/treated_all.parquet')\n",
    "mask = pd.read_parquet(f'{DATA_FOLD}/{VERSION}/2.clean_data/{DATASET}/temporal/missing_matrix.parquet')\n",
    "atb = pd.read_excel(f'{DATA_FOLD}/{VERSION}/1.raw_data/{DATASET}/other/all_atb.xlsx')\n",
    "atb_label = pd.read_excel(f'{DATA_FOLD}/{VERSION}/1.raw_data/{DATASET}/other/atb_label.xlsx')\n"
   ]
  },
  {
   "cell_type": "code",
   "execution_count": null,
   "id": "25a5db5a",
   "metadata": {},
   "outputs": [],
   "source": [
    "static.columns"
   ]
  },
  {
   "cell_type": "code",
   "execution_count": null,
   "id": "09467644",
   "metadata": {},
   "outputs": [],
   "source": [
    "temporal.columns"
   ]
  },
  {
   "cell_type": "markdown",
   "id": "f3b83cc3",
   "metadata": {},
   "source": [
    "## EDS Demo Sepsis"
   ]
  },
  {
   "cell_type": "markdown",
   "id": "463d354b",
   "metadata": {},
   "source": [
    "### Select ids"
   ]
  },
  {
   "cell_type": "code",
   "execution_count": null,
   "id": "3d87e7cc",
   "metadata": {},
   "outputs": [],
   "source": [
    "label_map = atb_label[atb_label['class'].notnull()][['shortLabel','label', 'class']]"
   ]
  },
  {
   "cell_type": "code",
   "execution_count": null,
   "id": "5aba05b3",
   "metadata": {},
   "outputs": [],
   "source": [
    "sepsis_df = static[(static['motif_adm'].str.contains('sepsis|septique', regex=True, na=False)) | (static['conclusion'].str.contains('sepsis|septique|infection', regex=True, na=False))].sort_values(by='utcInTime', ascending=False)\n",
    "sepsis_pop = sepsis_df.encounterId.astype('int32').unique().tolist()"
   ]
  },
  {
   "cell_type": "code",
   "execution_count": null,
   "id": "8bee3666",
   "metadata": {},
   "outputs": [],
   "source": [
    "len(sepsis_pop)"
   ]
  },
  {
   "cell_type": "code",
   "execution_count": null,
   "id": "b270f6ae",
   "metadata": {},
   "outputs": [],
   "source": [
    "sepsis_temp = temporal.loc[(temporal['encounterId'].isin(sepsis_pop)) & (temporal['delta_hour'].between(0,120))] \n",
    "atb_adm = atb.loc[atb['encounterId'].isin(sepsis_pop) & atb['dose_24'].notna()].merge(label_map, how='inner', on='shortLabel')"
   ]
  },
  {
   "cell_type": "code",
   "execution_count": null,
   "id": "00fd032c",
   "metadata": {},
   "outputs": [],
   "source": [
    "has_aminoside = atb_adm[atb_adm['class'] == 'aminoside'].encounterId.unique().tolist()"
   ]
  },
  {
   "cell_type": "code",
   "execution_count": null,
   "id": "38bfbe09",
   "metadata": {},
   "outputs": [],
   "source": [
    "sepsis_temp.encounterId.nunique()"
   ]
  },
  {
   "cell_type": "code",
   "execution_count": null,
   "id": "3d638721",
   "metadata": {},
   "outputs": [],
   "source": [
    "sepsis_temp['nad_dose_poids'] = sepsis_temp['nad_dose_poids'].fillna(0)\n",
    "sepsis_temp.dropna(subset=['lactate', 'pam'], axis=0, inplace=True)"
   ]
  },
  {
   "cell_type": "code",
   "execution_count": null,
   "id": "ad1d09a5",
   "metadata": {},
   "outputs": [],
   "source": [
    "sepsis_agg = sepsis_temp[['encounterId', 'pas', 'pad', 'pam','spo2', 'temp','fr', 'heart_rate', 'nad_dose_poids', 'glyc_cap', 'tp', 'creat','bili_tot', 'num_plq', 'leucocytes', 'lactate', 'hemoglobine',\n",
    "       'urine_output', 'iv_input']].groupby('encounterId', as_index=False).agg(\n",
    "           {\n",
    "              'pas': 'min',\n",
    "              'pad': ['max','min'],\n",
    "              'pam': ['max','min'],\n",
    "              'spo2': ['max','min'],\n",
    "              'temp': ['max','min'],\n",
    "              'fr': ['max','min'],\n",
    "              'heart_rate': ['max','min'],\n",
    "              'nad_dose_poids': ['max','min'],\n",
    "              'glyc_cap': ['max','min'],\n",
    "              'tp': ['max','min'],\n",
    "              'creat': ['max','min'],\n",
    "              'bili_tot': ['max','min'],\n",
    "              'num_plq': ['max','min'],\n",
    "              'leucocytes': ['max','min'],\n",
    "              'lactate': ['max','min'],\n",
    "              'hemoglobine': ['max','min'],\n",
    "              'urine_output': 'mean',\n",
    "              'iv_input': ['max']\n",
    "           }\n",
    "       )    \n",
    "       "
   ]
  },
  {
   "cell_type": "code",
   "execution_count": null,
   "id": "eb17d5cf",
   "metadata": {},
   "outputs": [],
   "source": [
    "sepsis_agg.columns = list(map('_'.join, sepsis_agg.columns.values))\n",
    "sepsis_agg"
   ]
  },
  {
   "cell_type": "code",
   "execution_count": null,
   "id": "10021cbe",
   "metadata": {},
   "outputs": [],
   "source": [
    "sepsis_agg.rename(columns={'encounterId_': 'encounterId'}, inplace=True)"
   ]
  },
  {
   "cell_type": "code",
   "execution_count": null,
   "id": "f9f18da1",
   "metadata": {},
   "outputs": [],
   "source": [
    "sepsis_df['encounterId'] = sepsis_df['encounterId'].astype('int32')\n",
    "merged = sepsis_df[['encounterId', 'gender', 'age', 'poids_admission', 'taille', 'sapsii', 'los', 'deces_datediff', 'utcInTime']].merge(sepsis_agg, how='inner', on='encounterId')"
   ]
  },
  {
   "cell_type": "code",
   "execution_count": null,
   "id": "59975916",
   "metadata": {},
   "outputs": [],
   "source": [
    "import uuid\n",
    "\n",
    "merged['encounterId'] = merged['encounterId'].transform(lambda g: uuid.uuid4())"
   ]
  },
  {
   "cell_type": "code",
   "execution_count": null,
   "id": "eca989da",
   "metadata": {},
   "outputs": [],
   "source": [
    "merged.drop(columns=['utcInTime'], inplace=True)\n"
   ]
  },
  {
   "cell_type": "code",
   "execution_count": null,
   "id": "3d5ce241",
   "metadata": {},
   "outputs": [],
   "source": [
    "merged.dropna(subset=['sapsii'], axis=0, inplace=True)"
   ]
  },
  {
   "cell_type": "code",
   "execution_count": null,
   "id": "4c41972e",
   "metadata": {},
   "outputs": [],
   "source": [
    "merged_sample = merged.sample(2288)"
   ]
  },
  {
   "cell_type": "code",
   "execution_count": null,
   "id": "07d7f936",
   "metadata": {},
   "outputs": [],
   "source": [
    "merged_sample.to_csv(f'{DATA_FOLD}/{VERSION}/2.clean_data/{DATASET}/sepsis_df.csv', index=False)"
   ]
  },
  {
   "cell_type": "code",
   "execution_count": null,
   "id": "ae94fd67",
   "metadata": {},
   "outputs": [],
   "source": [
    "merged['encounterId_uuid'] = uuid.uuid4().hex"
   ]
  },
  {
   "cell_type": "code",
   "execution_count": null,
   "id": "880dcde8",
   "metadata": {},
   "outputs": [],
   "source": [
    "merged.encounterId.transform(lambda g: uuid.uuid4())"
   ]
  },
  {
   "cell_type": "code",
   "execution_count": null,
   "id": "27b191e7",
   "metadata": {},
   "outputs": [],
   "source": [
    "pivot_atb"
   ]
  },
  {
   "cell_type": "code",
   "execution_count": null,
   "id": "ff16fb1b",
   "metadata": {},
   "outputs": [],
   "source": [
    "pivot_atb.columns"
   ]
  }
 ],
 "metadata": {
  "language_info": {
   "name": "python"
  }
 },
 "nbformat": 4,
 "nbformat_minor": 5
}
