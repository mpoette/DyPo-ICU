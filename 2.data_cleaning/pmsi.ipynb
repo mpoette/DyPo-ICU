{
 "cells": [
  {
   "cell_type": "code",
   "execution_count": null,
   "metadata": {},
   "outputs": [],
   "source": [
    "import polars as pl\n",
    "from datetime import datetime\n",
    "import json\n",
    "import seaborn as sns"
   ]
  },
  {
   "cell_type": "code",
   "execution_count": null,
   "metadata": {},
   "outputs": [],
   "source": [
    "with open('../params.json', 'r') as file :\n",
    "    params = json.load(file)\n",
    "\n",
    "DATASET, VERSION = params['dataset'], params['version']\n",
    "DATA_FOLD = params['data_folder']"
   ]
  },
  {
   "cell_type": "code",
   "execution_count": null,
   "metadata": {},
   "outputs": [],
   "source": [
    "first_48h_data = pl.read_parquet(f'{DATA_FOLD}/{VERSION}/3.analysis/imputation_48/chu/first_48h_with_static.parquet')"
   ]
  },
  {
   "cell_type": "code",
   "execution_count": null,
   "metadata": {},
   "outputs": [],
   "source": [
    "demo_data = pl.read_parquet(f'{DATA_FOLD}/{VERSION}/2.clean_data/chu/static/clean_static_encounters.parquet')"
   ]
  },
  {
   "cell_type": "code",
   "execution_count": null,
   "metadata": {},
   "outputs": [],
   "source": [
    "pmsi_data = pl.read_excel(f'{DATA_FOLD}/{VERSION}/1.raw_data/chu/extended_demography/pmsi_2024.xlsx')"
   ]
  },
  {
   "cell_type": "code",
   "execution_count": null,
   "metadata": {},
   "outputs": [],
   "source": [
    "id_list = first_48h_data.select(pl.col('encounterId')).unique().to_series().to_list()"
   ]
  },
  {
   "cell_type": "code",
   "execution_count": null,
   "metadata": {},
   "outputs": [],
   "source": [
    "(demo_data\n",
    "    .filter(\n",
    "        pl.col('encounterId').is_in(id_list)\n",
    "        )\n",
    "    .filter(\n",
    "        pl.col('utcInTime') > datetime(2023, 12, 1)\n",
    "        )\n",
    "    .sort('los', descending=True)\n",
    "    .select(\n",
    "        pl.col('encounterId').alias('ICCA_stay_id'),\n",
    "        pl.col('encounterNumber').alias('IEP'),\n",
    "        pl.col('lifeTimeNumber').alias('IPP'),\n",
    "        pl.col('lastName').alias('Nom'),\n",
    "        pl.col('firstName').alias('Prenom'),\n",
    "        pl.col('dateOfBirth').alias('Date_de_naissance'),\n",
    "        pl.col('utcInTime').alias('Date_entree'),\n",
    "        pl.col('motif_adm').alias('Motif_admission'),\n",
    "        pl.col('conclusion').alias('Conclusion'),\n",
    "        pl.col('isDeceased').alias('Décè'),\n",
    "        )\n",
    "    .sort('Date_entree')\n",
    "    ).sample(100).write_excel('/data2/poette.m/dypo/v3/2.clean_data/chu/pmsi_2024/patients_2024_sample_100.xlsx')"
   ]
  },
  {
   "cell_type": "code",
   "execution_count": null,
   "metadata": {},
   "outputs": [],
   "source": [
    "demo_unique = demo_data.sort(['encounterNumber', 'utcOutTime'], descending=[False, True]).unique('encounterNumber', keep='first')"
   ]
  },
  {
   "cell_type": "code",
   "execution_count": null,
   "metadata": {},
   "outputs": [],
   "source": [
    "pmsi_data"
   ]
  },
  {
   "cell_type": "markdown",
   "metadata": {},
   "source": [
    "# Comparaison décès"
   ]
  },
  {
   "cell_type": "code",
   "execution_count": null,
   "metadata": {},
   "outputs": [],
   "source": [
    "pmsi_unique = pmsi_data.sort(['IEP', 'DtSortie'], descending=[False, True]).unique('IEP', keep='first').rename(\n",
    "    {'IEP' : 'encounterNumber'}\n",
    "    ).cast(\n",
    "        {'encounterNumber' : pl.String}\n",
    "    ).drop(\n",
    "        ['Liste des actes',\n",
    "        '__UNNAMED__26',\n",
    "        '__UNNAMED__27',\n",
    "        '__UNNAMED__28',\n",
    "        '__UNNAMED__29',\n",
    "        '__UNNAMED__30',\n",
    "        '__UNNAMED__31',\n",
    "        '__UNNAMED__32',\n",
    "        '__UNNAMED__33',\n",
    "        '__UNNAMED__34',\n",
    "        '__UNNAMED__35',\n",
    "        '__UNNAMED__36',\n",
    "         'Motif_admission',\n",
    "        'Conclusion'\n",
    "        ]\n",
    "    )"
   ]
  },
  {
   "cell_type": "code",
   "execution_count": null,
   "metadata": {},
   "outputs": [],
   "source": [
    "demo_pmsi = demo_unique.join(pmsi_unique, on='encounterNumber', how='inner')"
   ]
  },
  {
   "cell_type": "code",
   "execution_count": null,
   "metadata": {},
   "outputs": [],
   "source": [
    "pmsi_unique.shape"
   ]
  },
  {
   "cell_type": "code",
   "execution_count": null,
   "metadata": {},
   "outputs": [],
   "source": [
    "df_deces = (demo_pmsi\n",
    "    .select(\n",
    "        'encounterNumber', 'isDeceased', 'ModSortie',\t'Libellé ModSortie', 'DtSortie', 'utcOutTime'\n",
    "        )\n",
    "    .filter(\n",
    "        (pl.col('isDeceased')==True) | (pl.col('ModSortie')==9)\n",
    "        )\n",
    "    .cast(\n",
    "        {'utcOutTime' : pl.Date}\n",
    "    )\n",
    "    .with_columns(\n",
    "        pl.col('isDeceased').xor((pl.col('ModSortie') == 9)).alias('mismatch'),\n",
    "        (pl.col('DtSortie') - pl.col('utcOutTime')).dt.total_days().alias('date_diff')\n",
    "    )\n",
    "    )"
   ]
  },
  {
   "cell_type": "code",
   "execution_count": null,
   "metadata": {},
   "outputs": [],
   "source": [
    "sortie_icca = df_deces.filter(pl.col('date_diff') <= 1)"
   ]
  },
  {
   "cell_type": "code",
   "execution_count": null,
   "metadata": {},
   "outputs": [],
   "source": [
    "sortie_icca.filter(pl.col('mismatch')==True).filter(pl.col('isDeceased')==True)"
   ]
  },
  {
   "cell_type": "code",
   "execution_count": null,
   "metadata": {},
   "outputs": [],
   "source": [
    "sortie_hosp = df_deces.filter(pl.col('date_diff') > 1)\n",
    "sortie_hosp['date_diff'].describe()"
   ]
  },
  {
   "cell_type": "markdown",
   "metadata": {},
   "source": [
    "# Comparaison diagnostics"
   ]
  },
  {
   "cell_type": "code",
   "execution_count": null,
   "metadata": {},
   "outputs": [],
   "source": [
    "pmsi_rum = pmsi_data.filter(pl.col('RUM Initial')=='oui').rename(\n",
    "    {'IEP' : 'encounterNumber'}\n",
    "    ).cast(\n",
    "        {'encounterNumber' : pl.String}\n",
    "    ).drop(\n",
    "        ['Liste des actes',\n",
    "        '__UNNAMED__26',\n",
    "        '__UNNAMED__27',\n",
    "        '__UNNAMED__28',\n",
    "        '__UNNAMED__29',\n",
    "        '__UNNAMED__30',\n",
    "        '__UNNAMED__31',\n",
    "        '__UNNAMED__32',\n",
    "        '__UNNAMED__33',\n",
    "        '__UNNAMED__34',\n",
    "        '__UNNAMED__35',\n",
    "        '__UNNAMED__36',\n",
    "         'Motif_admission',\n",
    "        'Conclusion'\n",
    "        ]\n",
    "    )"
   ]
  },
  {
   "cell_type": "code",
   "execution_count": null,
   "metadata": {},
   "outputs": [],
   "source": [
    "pmsi_rum.shape"
   ]
  },
  {
   "cell_type": "code",
   "execution_count": null,
   "metadata": {},
   "outputs": [],
   "source": [
    "demo_pmsi_dp = demo_unique.join(pmsi_rum, on='encounterNumber', how='inner').select(\n",
    "    [\n",
    "        'encounterNumber',\n",
    "        'utcInTime',\n",
    "        'DtEntree',\n",
    "        'DtSortie',\n",
    "        'motif_adm',\n",
    "        'conclusion',\n",
    "        'admission_type',\n",
    "        'Libellé ModEntree',\n",
    "        'DP',\n",
    "        'Libellé DP',\n",
    "         'DR',\n",
    "        'DAS',\n",
    "        'Liste des actes (compilés)'\n",
    "     ]\n",
    ")\n",
    "    \n"
   ]
  },
  {
   "cell_type": "markdown",
   "metadata": {},
   "source": [
    "# Jointure dataset 48h"
   ]
  },
  {
   "cell_type": "code",
   "execution_count": null,
   "metadata": {},
   "outputs": [],
   "source": [
    "pmsi_data.columns"
   ]
  },
  {
   "cell_type": "code",
   "execution_count": null,
   "metadata": {},
   "outputs": [],
   "source": [
    "pmsi_deces_48 = (\n",
    "    pmsi_data\n",
    "    .sort(['ICCA_stay_id', 'DtSortie'], descending=[False, True])\n",
    "    .unique('ICCA_stay_id', keep='first')\n",
    "    .with_columns(\n",
    "        deces_pmsi = pl.col('ModSortie') == 9\n",
    "    )\n",
    "    .select(\n",
    "        'ICCA_stay_id',\n",
    "        'DtSortie',\n",
    "        'deces_pmsi'\n",
    "    )\n",
    "    )\n",
    "pmsi_dp_48 = (\n",
    "    pmsi_data\n",
    "    .sort(['ICCA_stay_id', 'DtEntree', 'RUM Initial'], descending=[False, False, True])\n",
    "    .unique('ICCA_stay_id', keep='first')\n",
    "    .with_columns(\n",
    "        deces_pmsi = pl.col('ModSortie') == 9\n",
    "    )\n",
    "    .select(\n",
    "        'ICCA_stay_id',\n",
    "        'DP',\n",
    "        'Libellé DP',\n",
    "    )\n",
    "    )\n",
    "\n",
    "\n",
    "pmsi_48 = (pmsi_deces_48\n",
    "           .join(\n",
    "               pmsi_dp_48, \n",
    "               on='ICCA_stay_id', \n",
    "               how='inner'\n",
    "               )\n",
    "           .rename(\n",
    "               {'ICCA_stay_id' : 'encounterId'}\n",
    "           )\n",
    "           .cast(\n",
    "               {'encounterId' : pl.String}\n",
    "           )\n",
    "            .join(\n",
    "            demo_data.select('encounterId', 'utcInTime', 'utcOutTime', 'gender', 'age', 'admission_type' ),\n",
    "            on='encounterId',\n",
    "            how='inner'\n",
    "            )\n",
    "            .cast(\n",
    "                {\n",
    "                    'utcInTime': pl.Date,\n",
    "                    'utcOutTime' : pl.Date\n",
    "                }\n",
    "            )\n",
    "            .with_columns(\n",
    "                (pl.col('utcOutTime') - pl.col('utcInTime')).dt.total_days().alias('icu_los'),\n",
    "                (pl.col('DtSortie') - pl.col('utcInTime')).dt.total_days().alias('hosp_los'),\n",
    "                (pl.col('DP').str.slice(0,1).alias('cat_dp'))\n",
    "            )\n",
    "        )\n",
    "\n",
    "\n",
    "pmsi_48.shape[0] == pmsi_deces_48.shape[0]"
   ]
  },
  {
   "cell_type": "code",
   "execution_count": null,
   "metadata": {},
   "outputs": [],
   "source": [
    "pmsi_48.write_parquet(f'{DATA_FOLD}/{VERSION}/2.clean_data/chu/static/pmsi_48.parquet')"
   ]
  },
  {
   "cell_type": "code",
   "execution_count": null,
   "metadata": {},
   "outputs": [],
   "source": [
    "pmsi_48['cat_dp'].value_counts().sort(['count'], descending=False)"
   ]
  },
  {
   "cell_type": "code",
   "execution_count": null,
   "metadata": {},
   "outputs": [],
   "source": [
    "first_48h_data.join(pmsi_48, on='encounterId', how='inner')"
   ]
  },
  {
   "cell_type": "code",
   "execution_count": null,
   "metadata": {},
   "outputs": [],
   "source": [
    "df_deces_48h = (demo_pmsi\n",
    "    .select(\n",
    "        'encounterId', 'isDeceased', 'ModSortie', 'Libellé ModSortie', 'DtSortie', 'utcOutTime'\n",
    "        )\n",
    "    .filter(\n",
    "         (pl.col('encounterId').is_in(id_list))\n",
    "        )\n",
    "    .cast(\n",
    "        {'utcOutTime' : pl.Date}\n",
    "    )\n",
    "    )"
   ]
  },
  {
   "cell_type": "code",
   "execution_count": null,
   "metadata": {},
   "outputs": [],
   "source": [
    "df_deces_48h"
   ]
  },
  {
   "cell_type": "code",
   "execution_count": null,
   "metadata": {},
   "outputs": [],
   "source": [
    "(pmsi_data\n",
    "    .cast(\n",
    "        {'ICCA_stay_id' : pl.String}\n",
    "    )   \n",
    "    .filter(\n",
    "        pl.col('ICCA_stay_id').is_in(id_list)\n",
    "    )\n",
    "    .filter(\n",
    "        pl.col('RUM Initial') == 'oui'\n",
    "    )\n",
    "    .sort(\n",
    "        ['ICCA_stay_id', 'DtEntree'], descending=[False, True]\n",
    "    )\n",
    "    .unique(\n",
    "        'ICCA_stay_id', \n",
    "        keep='first'\n",
    "    )\n",
    "    .with_columns(\n",
    "        (pl.col('ModSortie') == 9).alias('deces')\n",
    "    )\n",
    ")"
   ]
  }
 ],
 "metadata": {
  "language_info": {
   "name": "python"
  }
 },
 "nbformat": 4,
 "nbformat_minor": 2
}
