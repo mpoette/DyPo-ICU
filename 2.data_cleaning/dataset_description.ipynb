{
 "cells": [
  {
   "cell_type": "code",
   "execution_count": null,
   "id": "1a56b620",
   "metadata": {},
   "outputs": [],
   "source": [
    "import polars as pl\n",
    "import json"
   ]
  },
  {
   "cell_type": "code",
   "execution_count": null,
   "id": "8c8ac66d",
   "metadata": {},
   "outputs": [],
   "source": [
    "with open('../params.json', 'r') as file :\n",
    "    params = json.load(file)\n",
    "\n",
    "DATASET, VERSION = params['dataset'], params['version']\n",
    "DATA_FOLD = params['data_folder']"
   ]
  },
  {
   "cell_type": "code",
   "execution_count": null,
   "id": "01d9633a",
   "metadata": {},
   "outputs": [],
   "source": [
    "DATA_FILE = f'{DATA_FOLD}/{VERSION}/2.clean_data/{DATASET}/temporal/all_features_with_delta.parquet'"
   ]
  },
  {
   "cell_type": "code",
   "execution_count": null,
   "id": "e43fee98",
   "metadata": {},
   "outputs": [],
   "source": [
    "df = pl.read_parquet(DATA_FILE)"
   ]
  },
  {
   "cell_type": "code",
   "execution_count": null,
   "id": "c88fa0f1",
   "metadata": {},
   "outputs": [],
   "source": [
    "df.head(5)"
   ]
  },
  {
   "cell_type": "code",
   "execution_count": null,
   "id": "ec7eace6",
   "metadata": {},
   "outputs": [],
   "source": [
    "df.columns[2:]"
   ]
  },
  {
   "cell_type": "code",
   "execution_count": null,
   "id": "ccb85a80",
   "metadata": {},
   "outputs": [],
   "source": [
    "df = df.with_columns(\n",
    "    pl.when(pl.col(\"urine_output\") == 0).then(pl.lit(None, dtype=pl.Float64)).otherwise(pl.col('urine_output')).alias('urine_output'),\n",
    "    pl.when(pl.col(\"cgr\") == 0).then(pl.lit(None, dtype=pl.Float64)).otherwise(pl.col('cgr')).alias('cgr'),\n",
    "    pl.when(pl.col(\"pfc\") == 0).then(pl.lit(None, dtype=pl.Float64)).otherwise(pl.col('pfc')).alias('pfc'),\n",
    "    pl.when(pl.col(\"plq\") == 0).then(pl.lit(None, dtype=pl.Float64)).otherwise(pl.col('plq')).alias('plq')\n",
    ").filter(~pl.all_horizontal(pl.col(df.columns[2:]).is_null()))"
   ]
  },
  {
   "cell_type": "code",
   "execution_count": null,
   "id": "1971b4e9",
   "metadata": {},
   "outputs": [],
   "source": [
    "for col in df.columns[2:] :\n",
    "    df_col = df.select('encounterId', 'delta_hour', col).filter(pl.col(col).is_not_null())\n",
    "    print(f\"{col} : {df_col['encounterId'].unique().shape[0]}/{df['encounterId'].unique().shape[0]}\")"
   ]
  }
 ],
 "metadata": {
  "language_info": {
   "name": "python"
  }
 },
 "nbformat": 4,
 "nbformat_minor": 5
}
