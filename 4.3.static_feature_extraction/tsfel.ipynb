{
 "cells": [
  {
   "cell_type": "markdown",
   "metadata": {},
   "source": [
    "# Import"
   ]
  },
  {
   "cell_type": "code",
   "execution_count": null,
   "metadata": {},
   "outputs": [],
   "source": [
    "from sklearn.model_selection import train_test_split\n",
    "from sklearn import preprocessing\n",
    "from sklearn.ensemble import RandomForestClassifier\n",
    "from sklearn.feature_selection import VarianceThreshold\n",
    "from sklearn.metrics import accuracy_score, classification_report, confusion_matrix\n",
    "import numpy as np\n",
    "import pandas as pd\n",
    "import polars as pl\n",
    "import tsfel\n",
    "import json\n",
    "import matplotlib.pyplot as plt\n",
    "import seaborn as sns"
   ]
  },
  {
   "cell_type": "code",
   "execution_count": null,
   "metadata": {},
   "outputs": [],
   "source": [
    "import warnings\n",
    "warnings.filterwarnings(\"ignore\", category=RuntimeWarning) "
   ]
  },
  {
   "cell_type": "markdown",
   "metadata": {},
   "source": [
    "https://tsfel.readthedocs.io/en/latest/descriptions/get_started.html"
   ]
  },
  {
   "cell_type": "code",
   "execution_count": null,
   "metadata": {},
   "outputs": [],
   "source": [
    "with open('../params.json', 'r') as file :\n",
    "    params = json.load(file)\n",
    "\n",
    "DATASET, VERSION = params['dataset'], params['version']\n",
    "DATA_FOLD = params['data_folder']"
   ]
  },
  {
   "cell_type": "code",
   "execution_count": null,
   "metadata": {},
   "outputs": [],
   "source": [
    "df = pl.read_parquet(f'{DATA_FOLD}/{VERSION}/3.analysis/imputation_48/{DATASET}/tables/first_48_with_static_imputed_saits.parquet')"
   ]
  },
  {
   "cell_type": "code",
   "execution_count": null,
   "metadata": {},
   "outputs": [],
   "source": [
    "pmsi_data = pl.read_parquet((f'{DATA_FOLD}/{VERSION}/2.clean_data/chu/static/pmsi_48.parquet'))"
   ]
  },
  {
   "cell_type": "markdown",
   "metadata": {},
   "source": [
    "# Split train/test"
   ]
  },
  {
   "cell_type": "code",
   "execution_count": null,
   "metadata": {},
   "outputs": [],
   "source": []
  },
  {
   "cell_type": "code",
   "execution_count": null,
   "metadata": {},
   "outputs": [],
   "source": [
    "df_filter_pmsi = df.drop(['gender', 'age', 'admission_type']).join(pmsi_data, on='encounterId', how='inner').to_pandas()"
   ]
  },
  {
   "cell_type": "code",
   "execution_count": null,
   "metadata": {},
   "outputs": [],
   "source": [
    "encounters_list = df_filter_pmsi['encounterId'].unique()"
   ]
  },
  {
   "cell_type": "code",
   "execution_count": null,
   "metadata": {},
   "outputs": [],
   "source": [
    "train_encounters, test_encounters = train_test_split(encounters_list, test_size=0.3, random_state=42)"
   ]
  },
  {
   "cell_type": "code",
   "execution_count": null,
   "metadata": {},
   "outputs": [],
   "source": [
    "print(train_encounters.shape)\n",
    "print(test_encounters.shape)"
   ]
  },
  {
   "cell_type": "code",
   "execution_count": null,
   "metadata": {},
   "outputs": [],
   "source": [
    "train_df = df_filter_pmsi[df_filter_pmsi['encounterId'].isin(train_encounters)]\n",
    "test_df = df_filter_pmsi[df_filter_pmsi['encounterId'].isin(test_encounters)]"
   ]
  },
  {
   "cell_type": "code",
   "execution_count": null,
   "metadata": {},
   "outputs": [],
   "source": [
    "print(train_df.shape)\n",
    "print(test_df.shape)"
   ]
  },
  {
   "cell_type": "code",
   "execution_count": null,
   "metadata": {},
   "outputs": [],
   "source": [
    "train_df_10 = train_df[train_df['intervalle'] < 10]\n",
    "test_df_10 = test_df[test_df['intervalle'] < 10]"
   ]
  },
  {
   "cell_type": "code",
   "execution_count": null,
   "metadata": {},
   "outputs": [],
   "source": [
    "train_df"
   ]
  },
  {
   "cell_type": "code",
   "execution_count": null,
   "metadata": {},
   "outputs": [],
   "source": [
    "train_temporal = train_df_10.iloc[:,2:6]\n",
    "test_temporal = test_df_10.iloc[:,2:6]"
   ]
  },
  {
   "cell_type": "markdown",
   "metadata": {},
   "source": [
    "# TSFEL Feature selections"
   ]
  },
  {
   "cell_type": "code",
   "execution_count": null,
   "metadata": {},
   "outputs": [],
   "source": [
    "cfg = tsfel.get_features_by_domain(['statistical', 'temporal'])  # Extrait toutes les caractéristiques par domaine (statistiques, temporelles, spectrales)"
   ]
  },
  {
   "cell_type": "code",
   "execution_count": null,
   "metadata": {},
   "outputs": [],
   "source": [
    "train_features = tsfel.time_series_features_extractor(config=cfg, timeseries=train_temporal, window_size=48)\n"
   ]
  },
  {
   "cell_type": "code",
   "execution_count": null,
   "metadata": {},
   "outputs": [],
   "source": [
    "train_features.shape"
   ]
  },
  {
   "cell_type": "code",
   "execution_count": null,
   "metadata": {},
   "outputs": [],
   "source": [
    "test_features = tsfel.time_series_features_extractor(config=cfg, timeseries=test_temporal, window_size=48)\n",
    "test_features.shape"
   ]
  },
  {
   "cell_type": "code",
   "execution_count": null,
   "metadata": {},
   "outputs": [],
   "source": [
    "test_features"
   ]
  },
  {
   "cell_type": "code",
   "execution_count": null,
   "metadata": {},
   "outputs": [],
   "source": [
    "corr_features, Dataset_trainv1 = tsfel.correlated_features(train_features, drop_correlated=True)"
   ]
  },
  {
   "cell_type": "code",
   "execution_count": null,
   "metadata": {},
   "outputs": [],
   "source": [
    "cols = Dataset_trainv1.columns"
   ]
  },
  {
   "cell_type": "code",
   "execution_count": null,
   "metadata": {},
   "outputs": [],
   "source": [
    "selector = VarianceThreshold()"
   ]
  },
  {
   "cell_type": "code",
   "execution_count": null,
   "metadata": {},
   "outputs": [],
   "source": [
    "selector.fit(Dataset_trainv1)"
   ]
  },
  {
   "cell_type": "code",
   "execution_count": null,
   "metadata": {},
   "outputs": [],
   "source": [
    "colsV2=selector.get_feature_names_out(cols)"
   ]
  },
  {
   "cell_type": "code",
   "execution_count": null,
   "metadata": {},
   "outputs": [],
   "source": [
    "colsV2"
   ]
  },
  {
   "cell_type": "code",
   "execution_count": null,
   "metadata": {},
   "outputs": [],
   "source": [
    "colsV3 = [col for col in colsV2 if not (col.endswith('_Skewness') or col.endswith('_Kurtosis'))]"
   ]
  },
  {
   "cell_type": "code",
   "execution_count": null,
   "metadata": {},
   "outputs": [],
   "source": [
    "Dataset_trainv2 = Dataset_trainv1[colsV3]\n",
    "Dataset_testv2 = test_features[colsV3]"
   ]
  },
  {
   "cell_type": "code",
   "execution_count": null,
   "metadata": {},
   "outputs": [],
   "source": []
  },
  {
   "cell_type": "code",
   "execution_count": null,
   "metadata": {},
   "outputs": [],
   "source": [
    "train_static"
   ]
  },
  {
   "cell_type": "code",
   "execution_count": null,
   "metadata": {},
   "outputs": [],
   "source": [
    "Dataset_trainv2"
   ]
  },
  {
   "cell_type": "code",
   "execution_count": null,
   "metadata": {},
   "outputs": [],
   "source": [
    "# Normalising Features\n",
    "scaler = preprocessing.StandardScaler()\n",
    "X_train = scaler.fit_transform(Dataset_trainv2)\n",
    "X_test = scaler.transform(Dataset_testv2)"
   ]
  },
  {
   "cell_type": "markdown",
   "metadata": {},
   "source": [
    "# Merge static data"
   ]
  },
  {
   "cell_type": "code",
   "execution_count": null,
   "metadata": {},
   "outputs": [],
   "source": [
    "train_static = train_df.drop_duplicates('encounterId').reset_index().drop(columns=['intervalle','heart_rate', 'spo2', 'fr', 'pam', 'index', 'DP', 'Libellé DP', 'utcInTime', 'utcOutTime',  'DtSortie'])\n",
    "test_static = test_df.drop_duplicates('encounterId').reset_index().drop(columns=['intervalle','heart_rate', 'spo2', 'fr', 'pam', 'index', 'DP', 'Libellé DP', 'utcInTime', 'utcOutTime',  'DtSortie'])"
   ]
  },
  {
   "cell_type": "code",
   "execution_count": null,
   "metadata": {},
   "outputs": [],
   "source": [
    "train_join = train_static.join(Dataset_trainv2)\n",
    "test_join = test_static.join(Dataset_testv2)"
   ]
  },
  {
   "cell_type": "markdown",
   "metadata": {},
   "source": [
    "# Prepare Data"
   ]
  },
  {
   "cell_type": "code",
   "execution_count": null,
   "metadata": {},
   "outputs": [],
   "source": [
    "train_join.columns"
   ]
  },
  {
   "cell_type": "code",
   "execution_count": null,
   "metadata": {},
   "outputs": [],
   "source": [
    "X_cat = ['gender', 'admission_type', 'cat_dp']\n",
    "y_class = ['deces_pmsi']\n",
    "y_reg = ['icu_los', 'hosp_los']\n",
    "Y_feat = y_class+y_reg"
   ]
  },
  {
   "cell_type": "code",
   "execution_count": null,
   "metadata": {},
   "outputs": [],
   "source": [
    "Y_feat"
   ]
  },
  {
   "cell_type": "code",
   "execution_count": null,
   "metadata": {},
   "outputs": [],
   "source": [
    "X_train = train_join.copy().drop(columns=Y_feat)\n",
    "X_test = test_join.copy().drop(columns=Y_feat)\n",
    "\n",
    "Y_train_reg = train_join[y_reg].copy()\n",
    "Y_train_class = train_join[y_class].copy()\n",
    "\n",
    "Y_test_reg = test_join[y_reg].copy()\n",
    "Y_test_class = test_join[y_class].copy()"
   ]
  },
  {
   "cell_type": "code",
   "execution_count": null,
   "metadata": {},
   "outputs": [],
   "source": [
    "df_filter_pmsi['gender'].value_counts()"
   ]
  },
  {
   "cell_type": "code",
   "execution_count": null,
   "metadata": {},
   "outputs": [],
   "source": [
    "le = preprocessing.LabelEncoder()\n",
    "\n",
    "for feat in categorial_feat :\n",
    "    print(feat)\n",
    "    le.fit(df_filter_pmsi[feat])\n",
    "\n",
    "    X_train[feat] = le.transform(X_train[feat])\n",
    "    X_test[feat] = le.transform(X_test[feat])"
   ]
  },
  {
   "cell_type": "code",
   "execution_count": null,
   "metadata": {},
   "outputs": [],
   "source": [
    "# Normalising Features\n",
    "scaler = preprocessing.StandardScaler()\n",
    "X_train.loc[:, ~X_train.columns.isin(categorial_feat)] = scaler.fit_transform(X_train.loc[:, ~X_train.columns.isin(categorial_feat)])\n",
    "X_test.loc[:, ~X_test.columns.isin(categorial_feat)] = scaler.transform(X_test.loc[:, ~X_test.columns.isin(categorial_feat)])"
   ]
  },
  {
   "cell_type": "code",
   "execution_count": null,
   "metadata": {},
   "outputs": [],
   "source": [
    "X_cols"
   ]
  },
  {
   "cell_type": "code",
   "execution_count": null,
   "metadata": {},
   "outputs": [],
   "source": [
    "X_cols = X_train.iloc[:,5:].columns\n",
    "X_train = X_train.iloc[:,5:].to_numpy()\n",
    "X_test = X_test.iloc[:,5:].to_numpy()"
   ]
  },
  {
   "cell_type": "code",
   "execution_count": null,
   "metadata": {},
   "outputs": [],
   "source": [
    "Y_train = Y_train_class.to_numpy()\n",
    "Y_test = Y_test_class.to_numpy()"
   ]
  },
  {
   "cell_type": "markdown",
   "metadata": {},
   "source": [
    "# Classification"
   ]
  },
  {
   "cell_type": "code",
   "execution_count": null,
   "metadata": {},
   "outputs": [],
   "source": [
    "from imblearn.over_sampling import SMOTE"
   ]
  },
  {
   "cell_type": "code",
   "execution_count": null,
   "metadata": {},
   "outputs": [],
   "source": [
    "smote = SMOTE(random_state=42)\n",
    "X_train_resampled, y_train_resampled = smote.fit_resample(X_train, Y_train_class)"
   ]
  },
  {
   "cell_type": "code",
   "execution_count": null,
   "metadata": {},
   "outputs": [],
   "source": [
    "labels = ['survie', 'deces']"
   ]
  },
  {
   "cell_type": "code",
   "execution_count": null,
   "metadata": {},
   "outputs": [],
   "source": [
    "y_train_resampled.sum()/len(y_train_resampled)"
   ]
  },
  {
   "cell_type": "code",
   "execution_count": null,
   "metadata": {},
   "outputs": [],
   "source": [
    "classif = RandomForestClassifier()\n",
    "# Train the classifier\n",
    "classif.fit(X_train_resampled, y_train_resampled)\n",
    "\n",
    "# Predict test data\n",
    "y_test_predict = classif.predict(X_test)\n",
    "\n",
    "# Get the classification report\n",
    "accuracy = accuracy_score(Y_test, y_test_predict) * 100\n",
    "print(classification_report(Y_test, y_test_predict, target_names=labels))\n",
    "print(\"Accuracy: \" + str(accuracy) + \"%\")"
   ]
  },
  {
   "cell_type": "code",
   "execution_count": null,
   "metadata": {},
   "outputs": [],
   "source": [
    "# @title Confusion Matrix\n",
    "cm = confusion_matrix(Y_test, y_test_predict)\n",
    "df_cm = pd.DataFrame(cm, index=[i for i in labels], columns=[i for i in labels])\n",
    "plt.figure()\n",
    "ax = sns.heatmap(df_cm, cbar=False, cmap=\"BuGn\", annot=True, fmt=\"d\")\n",
    "plt.setp(ax.get_xticklabels(), rotation=45)\n",
    "\n",
    "plt.ylabel(\"True label\", fontweight=\"bold\", fontsize=18)\n",
    "plt.xlabel(\"Predicted label\", fontweight=\"bold\", fontsize=18)\n",
    "bottom, top = ax.get_ylim()\n",
    "plt.show()"
   ]
  },
  {
   "cell_type": "code",
   "execution_count": null,
   "metadata": {},
   "outputs": [],
   "source": [
    "import shap\n",
    "\n",
    "# Appliquer les valeurs de Shapley\n",
    "explainer = shap.TreeExplainer(classif)\n",
    "shap_values = explainer.shap_values(X_train)"
   ]
  },
  {
   "cell_type": "code",
   "execution_count": null,
   "metadata": {},
   "outputs": [],
   "source": [
    "plt_shap = shap.summary_plot(shap_values, #Use Shap values array\n",
    "                             features=X_train, # Use training set features\n",
    "                             feature_names=X_cols, #Use column names\n",
    "                             show=False, #Set to false to output to folder\n",
    "                             plot_size=(300,150)) # Change plot size\n",
    "# Save my figure to a directory\n",
    "\n",
    "plt.savefig(\"global_shapHAR.png\")"
   ]
  },
  {
   "cell_type": "code",
   "execution_count": null,
   "metadata": {},
   "outputs": [],
   "source": [
    "\n",
    "# Visualisation des contributions des caractéristiques\n",
    "# Résumé des valeurs de Shapley pour chaque classe\n",
    "for i, shap_val in enumerate(shap_values):\n",
    "    print(f\"Résumé pour la classe {i}:\")\n",
    "    shap.summary_plot(shap_val, X_train)"
   ]
  },
  {
   "cell_type": "code",
   "execution_count": null,
   "metadata": {},
   "outputs": [],
   "source": []
  },
  {
   "cell_type": "markdown",
   "metadata": {},
   "source": [
    "# T-SNE"
   ]
  },
  {
   "cell_type": "code",
   "execution_count": null,
   "metadata": {},
   "outputs": [],
   "source": [
    "from openTSNE import TSNE\n"
   ]
  },
  {
   "cell_type": "code",
   "execution_count": null,
   "metadata": {},
   "outputs": [],
   "source": [
    "tsne = TSNE(\n",
    "    perplexity=500,\n",
    "    metric=\"euclidean\",\n",
    "    n_jobs=8,\n",
    "    random_state=42,\n",
    "    verbose=True,\n",
    ")"
   ]
  },
  {
   "cell_type": "code",
   "execution_count": null,
   "metadata": {},
   "outputs": [],
   "source": [
    "%time embedding_train = tsne.fit(X_train)"
   ]
  },
  {
   "cell_type": "code",
   "execution_count": null,
   "metadata": {},
   "outputs": [],
   "source": [
    "embedding_train.shape"
   ]
  },
  {
   "cell_type": "code",
   "execution_count": null,
   "metadata": {},
   "outputs": [],
   "source": [
    "y_train.shape"
   ]
  },
  {
   "cell_type": "code",
   "execution_count": null,
   "metadata": {},
   "outputs": [],
   "source": [
    "# Visualize the results\n",
    "plt.figure(figsize=(8, 6))\n",
    "sns.scatterplot(x=embedding_train[:, 0], y=embedding_train[:, 1], edgecolor='k', alpha=0.7, hue=y_train)\n",
    "plt.title(\"t-SNE Visualization\")\n",
    "plt.xlabel(\"t-SNE Component 1\")\n",
    "plt.ylabel(\"t-SNE Component 2\")\n",
    "plt.show()\n"
   ]
  },
  {
   "cell_type": "code",
   "execution_count": null,
   "metadata": {},
   "outputs": [],
   "source": [
    "from sklearn.manifold import TSNE\n",
    "from mpl_toolkits.mplot3d import Axes3D\n",
    "\n",
    "tsne = TSNE(n_components=3, random_state=42, perplexity=500, n_iter=1000)\n",
    "X_tsne_3d = tsne.fit_transform(X_train)\n",
    "\n",
    "fig = plt.figure(figsize=(10, 8))\n",
    "ax = fig.add_subplot(111, projection='3d')\n",
    "\n",
    "scatter = ax.scatter(\n",
    "    X_tsne_3d[:, 0], X_tsne_3d[:, 1], X_tsne_3d[:, 2], \n",
    "    c='blue', edgecolor='k', alpha=0.7\n",
    ")\n",
    "\n",
    "# Ajouter des titres et des étiquettes\n",
    "ax.set_title(\"Visualisation t-SNE en 3D\")\n",
    "ax.set_xlabel(\"Composante t-SNE 1\")\n",
    "ax.set_ylabel(\"Composante t-SNE 2\")\n",
    "ax.set_zlabel(\"Composante t-SNE 3\")\n",
    "\n",
    "# Afficher le graphique\n",
    "plt.show()\n"
   ]
  }
 ],
 "metadata": {
  "language_info": {
   "name": "python"
  }
 },
 "nbformat": 4,
 "nbformat_minor": 2
}
