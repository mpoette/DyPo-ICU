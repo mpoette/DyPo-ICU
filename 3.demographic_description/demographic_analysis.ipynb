{
 "cells": [
  {
   "cell_type": "markdown",
   "metadata": {},
   "source": [
    "## Imports"
   ]
  },
  {
   "cell_type": "code",
   "execution_count": null,
   "metadata": {},
   "outputs": [],
   "source": [
    "import polars as pl\n",
    "import pandas as pd\n",
    "import seaborn as sns\n",
    "import matplotlib.pyplot as plt\n",
    "import tableone\n",
    "import json"
   ]
  },
  {
   "cell_type": "code",
   "execution_count": null,
   "metadata": {},
   "outputs": [],
   "source": [
    "with open('../params.json', 'r') as file :\n",
    "    params = json.load(file)\n",
    "\n",
    "DATASET, VERSION, DATA_FOLD = params['dataset'], params['version'], params['data_folder']"
   ]
  },
  {
   "cell_type": "code",
   "execution_count": null,
   "metadata": {},
   "outputs": [],
   "source": [
    "OUTPUT_DIR = f'{DATA_FOLD}/{VERSION}/3.analysis/demographic/{DATASET}/'\n",
    "DEMO_DATA = f'{DATA_FOLD}/{VERSION}/2.clean_data/{DATASET}/static/clean_static_encounters.parquet'"
   ]
  },
  {
   "cell_type": "code",
   "execution_count": null,
   "metadata": {},
   "outputs": [],
   "source": [
    "sns.set_palette('pastel')\n",
    "sns.set_color_codes(palette='pastel')"
   ]
  },
  {
   "cell_type": "code",
   "execution_count": null,
   "metadata": {},
   "outputs": [],
   "source": [
    "df = pl.read_parquet(DEMO_DATA)"
   ]
  },
  {
   "cell_type": "code",
   "execution_count": null,
   "metadata": {},
   "outputs": [],
   "source": [
    "VERSION"
   ]
  },
  {
   "cell_type": "code",
   "execution_count": null,
   "metadata": {},
   "outputs": [],
   "source": [
    "df.columns"
   ]
  },
  {
   "cell_type": "code",
   "execution_count": null,
   "metadata": {},
   "outputs": [],
   "source": [
    "df['unitLabel'].value_counts()"
   ]
  },
  {
   "cell_type": "code",
   "execution_count": null,
   "metadata": {},
   "outputs": [],
   "source": [
    "df.dtypes"
   ]
  },
  {
   "cell_type": "code",
   "execution_count": null,
   "metadata": {},
   "outputs": [],
   "source": [
    "df.describe()"
   ]
  },
  {
   "cell_type": "code",
   "execution_count": null,
   "metadata": {},
   "outputs": [],
   "source": [
    "df_pandas = df.to_pandas()"
   ]
  },
  {
   "cell_type": "code",
   "execution_count": null,
   "metadata": {},
   "outputs": [],
   "source": [
    "df_pandas.shape"
   ]
  },
  {
   "cell_type": "code",
   "execution_count": null,
   "metadata": {},
   "outputs": [],
   "source": [
    "df_pandas"
   ]
  },
  {
   "cell_type": "markdown",
   "metadata": {},
   "source": [
    "## Valeurs numériques"
   ]
  },
  {
   "cell_type": "code",
   "execution_count": null,
   "metadata": {},
   "outputs": [],
   "source": [
    "print(f'Séjours distincts : {df.unique(\"encounterId\").shape[0]}')\n",
    "print(f'IEP distincts : {df.unique(\"encounterNumber\").shape[0]}')\n",
    "print(f'IPP distincts : {df.unique(\"lifeTimeNumber\").shape[0]}')"
   ]
  },
  {
   "cell_type": "markdown",
   "metadata": {},
   "source": [
    "### Age"
   ]
  },
  {
   "cell_type": "code",
   "execution_count": null,
   "metadata": {},
   "outputs": [],
   "source": [
    "f, axes = plt.subplots(1,2)\n",
    "sns.histplot(df_pandas, x='age', binrange=[0,100], binwidth=5, ax=axes[0], hue='isDeceased', multiple='stack')\n",
    "sns.boxplot(df_pandas, x='age', orient='v', ax=axes[1])"
   ]
  },
  {
   "cell_type": "markdown",
   "metadata": {},
   "source": [
    "### LOS"
   ]
  },
  {
   "cell_type": "code",
   "execution_count": null,
   "metadata": {},
   "outputs": [],
   "source": [
    "f, axes = plt.subplots(1,1)\n",
    "sns.histplot(df_pandas, x='los', binrange=[-5,200], binwidth=1)\n",
    "#sns.boxplot(df, x='los', orient='v', ax=axes[1])\n",
    "plt.xlim(0, 170)"
   ]
  },
  {
   "cell_type": "code",
   "execution_count": null,
   "metadata": {},
   "outputs": [],
   "source": [
    "for i in range(19,49,1) :\n",
    "    los_encounter = df.filter(pl.col('los') < i).shape[0]\n",
    "    print(f\"{los_encounter} inférieurs à {i} \")"
   ]
  },
  {
   "cell_type": "markdown",
   "metadata": {},
   "source": [
    "### IGS"
   ]
  },
  {
   "cell_type": "code",
   "execution_count": null,
   "metadata": {},
   "outputs": [],
   "source": [
    "df_pandas.columns"
   ]
  },
  {
   "cell_type": "code",
   "execution_count": null,
   "metadata": {},
   "outputs": [],
   "source": [
    "f, axes = plt.subplots(1,2)\n",
    "sns.histplot(df_pandas, x='sapsii', binrange=[0,150], binwidth=5, ax=axes[0], hue='isDeceased', multiple='stack')\n",
    "sns.boxplot(df_pandas, x='sapsii', orient='v', ax=axes[1])\n",
    "f, axes = plt.subplots(1,2)\n",
    "sns.histplot(df_pandas, x='sapsii_prob', binrange=[0,1], binwidth=0.05, ax=axes[0], hue='isDeceased', multiple='stack')\n",
    "sns.boxplot(df_pandas, x='sapsii_prob', orient='v', ax=axes[1])\n",
    "\n"
   ]
  },
  {
   "cell_type": "markdown",
   "metadata": {},
   "source": [
    "### TableOne"
   ]
  },
  {
   "cell_type": "code",
   "execution_count": null,
   "metadata": {},
   "outputs": [],
   "source": []
  },
  {
   "cell_type": "code",
   "execution_count": null,
   "metadata": {},
   "outputs": [],
   "source": [
    "var_demo = ['age', 'gender', 'los', 'admission_type', 'sapsii', 'isDeceased']\n",
    "categorical = [ 'gender','admission_type', 'isDeceased']\n",
    "df_pandas = df.to_pandas()"
   ]
  },
  {
   "cell_type": "code",
   "execution_count": null,
   "metadata": {},
   "outputs": [],
   "source": [
    "mytable = tableone.TableOne(df_pandas, var_demo, categorical, pval=False)"
   ]
  },
  {
   "cell_type": "code",
   "execution_count": null,
   "metadata": {},
   "outputs": [],
   "source": [
    "DATASET"
   ]
  },
  {
   "cell_type": "code",
   "execution_count": null,
   "metadata": {},
   "outputs": [],
   "source": [
    "print(DATASET)\n",
    "print(mytable.tabulate(tablefmt=\"latex\"))\n",
    "mytable.to_html(OUTPUT_DIR + 'table/tableOne.html')"
   ]
  },
  {
   "cell_type": "code",
   "execution_count": null,
   "metadata": {},
   "outputs": [],
   "source": [
    "if DATASET == 'chu' :\n",
    "    df_imc = df_pandas[df_pandas['bmi'].between(5,100)]\n",
    "    print(df_imc.bmi.mean())\n",
    "    print(df_imc.bmi.std())"
   ]
  },
  {
   "cell_type": "markdown",
   "metadata": {},
   "source": [
    "## Group By"
   ]
  },
  {
   "cell_type": "markdown",
   "metadata": {},
   "source": [
    "### Units"
   ]
  },
  {
   "cell_type": "code",
   "execution_count": null,
   "metadata": {},
   "outputs": [],
   "source": [
    "sns.countplot(df_pandas, y='unitLabel', hue='isDeceased', dodge=False, orient='h')\n",
    "plt.xlabel('Nombre de séjours')\n",
    "plt.ylabel(\"Service d'admission\")\n",
    "plt.legend(labels=['Survie', 'Décès'])\n",
    "plt.show()"
   ]
  },
  {
   "cell_type": "markdown",
   "metadata": {},
   "source": [
    "### Year"
   ]
  },
  {
   "cell_type": "code",
   "execution_count": null,
   "metadata": {},
   "outputs": [],
   "source": [
    "sns.countplot(df_pandas, x='year_inTime')\n",
    "plt.xticks(rotation=45)\n",
    "plt.xlabel('Année')\n",
    "plt.ylabel('Nombre de séjours')\n",
    "plt.show()"
   ]
  },
  {
   "cell_type": "markdown",
   "metadata": {},
   "source": [
    "## Hosmer-Lemeshow"
   ]
  },
  {
   "cell_type": "code",
   "execution_count": null,
   "metadata": {},
   "outputs": [],
   "source": [
    "df_pandas.columns"
   ]
  },
  {
   "cell_type": "code",
   "execution_count": null,
   "metadata": {},
   "outputs": [],
   "source": [
    "# Calculer les déciles de la variable predIgs_max\n",
    "df_pandas['decile'] = pd.qcut(df_pandas['sapsii_prob'], 10, labels=False)\n",
    "\n",
    "# Calculer les taux de mortalité observés et prédits pour chaque décile\n",
    "calibration_data = df_pandas.groupby('decile').agg(\n",
    "    observed_rate=('isDeceased', 'mean'),\n",
    "    predicted_rate=('sapsii_prob', 'mean')\n",
    ").reset_index()\n",
    "calibration_data\n",
    "# Tracer le graphique de calibration\n",
    "plt.figure(figsize=(14, 9))\n",
    "\n",
    "sns.lineplot(data=calibration_data, x='decile', y='predicted_rate', marker='o')\n",
    "sns.lineplot(data=calibration_data, x='decile', y='observed_rate', marker='x')\n",
    "\n",
    "plt.plot([0, 10], [0, 1], linestyle='--', color='gray', marker='x', markersize=4)\n",
    "plt.xlabel('Decile')\n",
    "plt.xticks(range(10), [f'{i}' for i in range(1, 11)])\n",
    "plt.ylabel('Mean hospital mortality rate')\n",
    "plt.legend(labels=['predicted_rate','observed_rate' ])\n",
    "plt.show()"
   ]
  },
  {
   "cell_type": "code",
   "execution_count": null,
   "metadata": {},
   "outputs": [],
   "source": [
    "# Calculer les déciles de la variable sapsii_prob\n",
    "df_pandas_dropNan = df_pandas.dropna(subset=['sapsii_prob'])\n",
    "df_pandas_dropNan['decile'] = pd.qcut(df_pandas_dropNan['sapsii_prob'], 10, labels=False)\n",
    "palette = sns.color_palette(\"husl\", len(df['unitLabel'].unique()))\n",
    "\n",
    "# Fonction pour tracer le graphique de calibration\n",
    "def plot_calibration_curve(df, unit=None, linestyle='-', color='blue'):\n",
    "    if unit:\n",
    "        df = df[df['unitLabel'] == unit]\n",
    "    \n",
    "    calibration_data = df.groupby('decile').agg(\n",
    "        observed_rate=('isDeceased', 'mean'),\n",
    "        predicted_rate=('sapsii_prob', 'mean')\n",
    "    ).reset_index()\n",
    "    \n",
    "    plt.plot(calibration_data['predicted_rate'], calibration_data['observed_rate'], marker='o', linestyle=linestyle, color=color, label=f'{unit}' if unit else 'Global')\n",
    "\n",
    "# Tracer le graphique global\n",
    "plt.figure(figsize=(10, 6))\n",
    "plot_calibration_curve(df_pandas_dropNan, linestyle='-', color='blue')\n",
    "\n",
    "# Tracer les graphiques par unité\n",
    "for i, unit in enumerate(df_pandas_dropNan['unitLabel'].unique()):\n",
    "    plot_calibration_curve(df_pandas_dropNan, unit, linestyle='--', color=palette[i])\n",
    "\n",
    "plt.plot([0, 1], [0, 1], linestyle='--', color='black')\n",
    "plt.xlabel('Décile')\n",
    "plt.ylabel('Taux de mortalité observé')\n",
    "plt.title('Graphique de calibration de type Hosmer-Lemeshow')\n",
    "plt.legend()\n",
    "plt.show()"
   ]
  },
  {
   "cell_type": "code",
   "execution_count": null,
   "metadata": {},
   "outputs": [],
   "source": [
    "from sklearn.metrics import roc_curve, roc_auc_score\n",
    "\n",
    "# Calculer les valeurs de la courbe ROC et l'AUC\n",
    "\n",
    "# Fonction pour tracer la courbe ROC\n",
    "def plot_roc_curve(df, unit=None, linestyle='-', color='blue'):\n",
    "    if unit:\n",
    "        df = df[df['unitLabel'] == unit]\n",
    "    \n",
    "    fpr, tpr, _ = roc_curve(df['isDeceased'], df['sapsii_prob'])\n",
    "    auc = roc_auc_score(df['isDeceased'], df['sapsii_prob'])\n",
    "    \n",
    "    plt.plot(fpr, tpr, linestyle=linestyle, color=color, label=f'{unit} AUC = {auc:.2f}' if unit else f'Global AUC = {auc:.2f}')\n",
    "\n",
    "# Tracer la courbe globale\n",
    "plt.figure(figsize=(10, 6))\n",
    "plot_roc_curve(df_pandas_dropNan, linestyle='-', color='blue')\n",
    "\n",
    "# Tracer les courbes par unité\n",
    "for i, unit in enumerate(df_pandas_dropNan['unitLabel'].unique()):\n",
    "    plot_roc_curve(df_pandas_dropNan, unit, linestyle='--', color=palette[i])\n",
    "\n",
    "plt.plot([0, 1], [0, 1], linestyle='--', color='black')\n",
    "plt.xlabel('Taux de faux positifs')\n",
    "plt.ylabel('Taux de vrais positifs')\n",
    "plt.title('Courbe ROC')\n",
    "plt.legend(loc='lower right')\n",
    "plt.show()"
   ]
  },
  {
   "cell_type": "code",
   "execution_count": null,
   "metadata": {},
   "outputs": [],
   "source": [
    "from sklearn.metrics import confusion_matrix\n",
    "\n",
    "# Calculer la matrice de confusion\n",
    "conf_matrix = confusion_matrix(df_pandas_dropNan['isDeceased'], df_pandas_dropNan['sapsii_prob'] > 0.5)\n",
    "\n",
    "# Tracer la matrice de confusion\n",
    "plt.figure(figsize=(8, 6))\n",
    "sns.heatmap(conf_matrix, annot=True, fmt='d', cmap='Blues', xticklabels=['Non décédé', 'Décédé'], yticklabels=['Non décédé', 'Décédé'])\n",
    "plt.xlabel('Prédiction')\n",
    "plt.ylabel('Réalité')\n",
    "plt.title('Matrice de Confusion Globale')\n",
    "plt.show()"
   ]
  }
 ],
 "metadata": {
  "language_info": {
   "name": "python"
  }
 },
 "nbformat": 4,
 "nbformat_minor": 2
}
