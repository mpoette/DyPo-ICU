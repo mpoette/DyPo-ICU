{
 "cells": [
  {
   "cell_type": "code",
   "execution_count": null,
   "metadata": {},
   "outputs": [],
   "source": [
    "import polars as pl\n",
    "from datetime import datetime"
   ]
  },
  {
   "cell_type": "code",
   "execution_count": null,
   "metadata": {},
   "outputs": [],
   "source": [
    "first_48h_data = pl.read_parquet('/data2/poette.m/dypo/v3/3.analysis/imputation_48/chu/first_48h.parquet')"
   ]
  },
  {
   "cell_type": "code",
   "execution_count": null,
   "metadata": {},
   "outputs": [],
   "source": [
    "demo_data = pl.read_parquet('/data2/poette.m/dypo/v3/2.clean_data/chu/static/clean_static_encounters.parquet')"
   ]
  },
  {
   "cell_type": "code",
   "execution_count": null,
   "metadata": {},
   "outputs": [],
   "source": [
    "id_list = first_48h_data.select(pl.col('encounterId')).unique().to_series().to_list()"
   ]
  },
  {
   "cell_type": "code",
   "execution_count": null,
   "metadata": {},
   "outputs": [],
   "source": [
    "demo_data"
   ]
  },
  {
   "cell_type": "code",
   "execution_count": null,
   "metadata": {},
   "outputs": [],
   "source": [
    "(demo_data\n",
    "    .filter(\n",
    "        pl.col('encounterId').is_in(id_list)\n",
    "        )\n",
    "    .filter(\n",
    "        pl.col('utcInTime') > datetime(2023, 12, 1)\n",
    "        )\n",
    "    .sort('los', descending=True)\n",
    "    .select(\n",
    "        pl.col('encounterId').alias('ICCA_stay_id'),\n",
    "        pl.col('encounterNumber').alias('IEP'),\n",
    "        pl.col('lifeTimeNumber').alias('IPP'),\n",
    "        pl.col('lastName').alias('Nom'),\n",
    "        pl.col('firstName').alias('Prenom'),\n",
    "        pl.col('dateOfBirth').alias('Date_de_naissance'),\n",
    "        pl.col('utcInTime').alias('Date_entree'),\n",
    "        pl.col('motif_adm').alias('Motif_admission'),\n",
    "        pl.col('conclusion').alias('Conclusion'),\n",
    "        pl.col('isDeceased').alias('Décè'),\n",
    "        )\n",
    "    .sort('Date_entree')\n",
    "    ).sample(100).write_excel('/data2/poette.m/dypo/v3/2.clean_data/chu/pmsi_2024/patients_2024_sample_100.xlsx')"
   ]
  }
 ],
 "metadata": {
  "language_info": {
   "name": "python"
  }
 },
 "nbformat": 4,
 "nbformat_minor": 2
}
