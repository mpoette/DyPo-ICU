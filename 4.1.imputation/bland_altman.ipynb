{
 "cells": [
  {
   "cell_type": "markdown",
   "id": "7e273949",
   "metadata": {},
   "source": [
    "# Imports"
   ]
  },
  {
   "cell_type": "code",
   "execution_count": null,
   "id": "6ed56958",
   "metadata": {},
   "outputs": [],
   "source": [
    "import matplotlib.pyplot as plt\n",
    "import matplotlib as mpl\n",
    "import numpy as np\n",
    "import polars as pl\n",
    "import pandas as pd\n",
    "import numpy as np\n",
    "import json\n",
    "import os\n",
    "import scipy.stats as stats\n",
    "import seaborn as sns"
   ]
  },
  {
   "cell_type": "code",
   "execution_count": null,
   "id": "8ff3f7af",
   "metadata": {},
   "outputs": [],
   "source": [
    "with open('../params.json', 'r') as file :\n",
    "    params = json.load(file)\n",
    "\n",
    "DATASET, VERSION = params['dataset'], params['version']\n",
    "DATA_FOLD = params['data_folder']"
   ]
  },
  {
   "cell_type": "code",
   "execution_count": null,
   "id": "aecdf665",
   "metadata": {},
   "outputs": [],
   "source": [
    "DIR = f'{DATA_FOLD}/{VERSION}/3.analysis/imputation_48/{DATASET}/tables/'\n",
    "print({DATASET})"
   ]
  },
  {
   "cell_type": "markdown",
   "id": "85cd3b66",
   "metadata": {},
   "source": [
    "# Datasets"
   ]
  },
  {
   "cell_type": "code",
   "execution_count": null,
   "id": "6785a93c",
   "metadata": {},
   "outputs": [],
   "source": [
    "df_mean = pd.read_excel(DIR + '/pam_comparaison/' + 'pa_only_mean.xlsx')\n",
    "df_lin = pd.read_excel(DIR + '/pam_comparaison/' + 'pa_only_lin_interpol.xlsx')\n",
    "df_saits = pd.read_excel(DIR + '/pam_comparaison/' + 'pa_only_saits.xlsx')"
   ]
  },
  {
   "cell_type": "code",
   "execution_count": null,
   "id": "844ca22e",
   "metadata": {},
   "outputs": [],
   "source": [
    "df_lin.head()"
   ]
  },
  {
   "cell_type": "code",
   "execution_count": null,
   "id": "6d50a9d3",
   "metadata": {},
   "outputs": [],
   "source": [
    "df_mean.shape == df_lin.shape == df_saits.shape"
   ]
  },
  {
   "cell_type": "markdown",
   "id": "2e696166",
   "metadata": {},
   "source": [
    "#  Bland - Altman function"
   ]
  },
  {
   "cell_type": "code",
   "execution_count": null,
   "id": "34e5da43",
   "metadata": {},
   "outputs": [],
   "source": [
    "sns.set_theme(style=\"whitegrid\", context=\"paper\", font_scale=1.2)\n",
    "\n",
    "mpl.rcParams.update({\n",
    "    \"font.family\"      : \"serif\",\n",
    "    \"font.serif\"       : [\"Times New Roman\"],\n",
    "    \"axes.titlesize\"   : \"medium\",\n",
    "    \"axes.labelsize\"   : \"medium\",\n",
    "    \"xtick.labelsize\"  : \"small\",\n",
    "    \"ytick.labelsize\"  : \"small\",\n",
    "    \"figure.dpi\"       : 300,\n",
    "    \"axes.spines.right\": False,\n",
    "    \"axes.spines.top\"  : False,\n",
    "})"
   ]
  },
  {
   "cell_type": "code",
   "execution_count": null,
   "id": "96a07cf9",
   "metadata": {},
   "outputs": [],
   "source": [
    "sns.set_style('whitegrid')\n",
    "\n",
    "fig, axes = plt.subplots(3, figsize = (16,12))\n",
    "\n",
    "datasets = [\n",
    "    (df_mean, \"A : Mean\", axes[0]),\n",
    "    (df_lin, \"B : Linear Interpolation\", axes[1]),\n",
    "    (df_saits, \"C : SAITS\", axes[2]),\n",
    "]\n",
    "\n",
    "for df, title, ax in datasets:\n",
    "    x = 'masquées'\n",
    "    y= 'différence'\n",
    "    values = np.vstack([df[x], df[y]])\n",
    "    kernel = stats.gaussian_kde(values)(values)\n",
    "    sns.scatterplot(data = df, x=x, y=y, ax=ax, c=kernel, cmap='viridis')\n",
    "    #twin_ax= ax.twinx()\n",
    "    #sns.kdeplot(data=df, x=x, ax=twin_ax, color='green')\n",
    "    #sns.scatterplot(data = df, x='masquées', y='différence', ax=ax, alpha=0.5)\n",
    "\n",
    "    sc = ax.scatter(\n",
    "        df[x], df[y],\n",
    "        c=kernel, cmap='viridis',\n",
    "        s=20, edgecolors='none'\n",
    ")\n",
    "\n",
    "    # add a vertical colour bar on the **right** of THIS subplot\n",
    "    cbar = fig.colorbar(sc, ax=ax, pad=0.01, orientation='vertical')\n",
    "    ax.set_ylim(-80, 80)\n",
    "    ax.set_xlim(20, 140)\n",
    "    \n",
    "    #twin_ax.set_ylim(0,0.2)\n",
    "    ax.set_xlabel('Average of Imputed and Msked Values (mmHg)')\n",
    "    ax.set_ylabel('Imputed Value - Masked Values (mmHg)')\n",
    "    ax.set_title(title, loc='left')"
   ]
  },
  {
   "cell_type": "code",
   "execution_count": null,
   "id": "6dc6970f",
   "metadata": {},
   "outputs": [],
   "source": [
    "import numpy as np\n",
    "import matplotlib.pyplot as plt\n",
    "import seaborn as sns\n",
    "from scipy import stats\n",
    "from matplotlib import colors\n",
    "from matplotlib.lines import Line2D\n",
    "\n",
    "sns.set_style(\"whitegrid\")\n",
    "cmap = sns.color_palette(\"crest\", as_cmap=True)\n",
    "norm = colors.Normalize(vmin=0, vmax=1)\n",
    "fig, axes = plt.subplots(3, figsize=(8.27, 11.69), sharex=True, sharey=True)\n",
    "\n",
    "datasets = [\n",
    "    (df_mean,  \"A : Mean\"),\n",
    "    (df_lin,   \"B : Linear Interpolation\"),\n",
    "    (df_saits, \"C : SAITS\"),\n",
    "]\n",
    "\n",
    "for ax, (df, title) in zip(axes, datasets):\n",
    "    x, y = \"moyenne\", \"différence\"\n",
    "    values = np.vstack([df[x], df[y]])\n",
    "\n",
    "    # KDE scaled so that max density = 1\n",
    "    kernel = stats.gaussian_kde(values)(values)\n",
    "    kernel /= kernel.max()\n",
    "\n",
    "    sc = ax.scatter(\n",
    "        df[x], df[y],\n",
    "        c=kernel, cmap=cmap, norm=norm,\n",
    "        s=20, edgecolors=\"none\"\n",
    "    )\n",
    "\n",
    "    # compact colour bar without ticks\n",
    "    cbar = fig.colorbar(sc, ax=ax, pad=0.01, orientation=\"vertical\")\n",
    "    cbar.set_ticks([])\n",
    "    cbar.ax.tick_params(size=0)\n",
    "    cbar.set_label(\"Relative density\")\n",
    "\n",
    "    mean_diff = df[y].mean()\n",
    "    sd_diff   = df[y].std(ddof=1)\n",
    "    upper     = mean_diff + 1.96 * sd_diff\n",
    "    lower     = mean_diff - 1.96 * sd_diff\n",
    "\n",
    "    ax.axhline(mean_diff, color=\"red\",   linewidth=1.5)           # mean\n",
    "    ax.axhline(upper,     color=\"black\", linewidth=1.2, ls=\"--\")  # +1.96 SD\n",
    "    ax.axhline(lower,     color=\"black\", linewidth=1.2, ls=\"--\")  # –1.96 SD\n",
    "    handles = [\n",
    "        Line2D([0], [0], color=\"red\",   lw=1.5),\n",
    "        Line2D([0], [0], color=\"black\", lw=1.2, ls=\"--\"),\n",
    "        Line2D([0], [0], color=\"black\", lw=1.2, ls=\"--\"),\n",
    "    ]\n",
    "    labels = [\n",
    "        f\"Mean = {mean_diff: .2f} mmHg\",\n",
    "        f\"+1.96 SD = {upper: .2f} mmHg\",\n",
    "        f\"−1.96 SD = {lower: .2f} mmHg\",\n",
    "    ]\n",
    "    ax.legend(\n",
    "        handles, labels,\n",
    "        loc=\"upper right\",             # inside the axes\n",
    "        frameon=True, framealpha=0.9,\n",
    "        fontsize=\"small\",\n",
    "        borderpad=0.4\n",
    "    )\n",
    "\n",
    "    # limits and labels\n",
    "    ax.set_xlim(20, 140)\n",
    "    ax.set_ylim(-80, 80)\n",
    "    ax.set_ylabel(\"Imputed – Masked Values (mmHg)\")\n",
    "\n",
    "    # keep x-label only on the bottom panel\n",
    "    if ax is axes[-1]:\n",
    "        ax.set_xlabel(\"Average of Imputed and Masked Values (mmHg)\")\n",
    "    else:\n",
    "        ax.set_xlabel(\"\")\n",
    "        ax.tick_params(axis=\"x\", labelbottom=False)\n",
    "\n",
    "    # internal title, top-left corner of the axes\n",
    "    ax.text(\n",
    "        0.02, 0.98, title,\n",
    "        transform=ax.transAxes,\n",
    "        ha=\"left\", va=\"top\",\n",
    "        fontsize=\"medium\", fontweight=\"bold\"\n",
    "    )\n",
    "\n",
    "fig.tight_layout()\n"
   ]
  },
  {
   "cell_type": "code",
   "execution_count": null,
   "id": "cec15d56",
   "metadata": {},
   "outputs": [],
   "source": [
    "fig.savefig()"
   ]
  }
 ],
 "metadata": {
  "language_info": {
   "name": "python"
  }
 },
 "nbformat": 4,
 "nbformat_minor": 5
}
