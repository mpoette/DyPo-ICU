{
 "cells": [
  {
   "cell_type": "markdown",
   "id": "7e273949",
   "metadata": {},
   "source": [
    "# Imports"
   ]
  },
  {
   "cell_type": "code",
   "execution_count": null,
   "id": "6ed56958",
   "metadata": {},
   "outputs": [],
   "source": [
    "import matplotlib.pyplot as plt\n",
    "import numpy as np\n",
    "import polars as pl\n",
    "import pandas as pd\n",
    "import numpy as np\n",
    "import json\n",
    "import os\n",
    "import scipy.stats as stats\n",
    "import seaborn as sns"
   ]
  },
  {
   "cell_type": "code",
   "execution_count": null,
   "id": "8ff3f7af",
   "metadata": {},
   "outputs": [],
   "source": [
    "with open('../params.json', 'r') as file :\n",
    "    params = json.load(file)\n",
    "\n",
    "DATASET, VERSION = params['dataset'], params['version']\n",
    "DATA_FOLD = params['data_folder']"
   ]
  },
  {
   "cell_type": "code",
   "execution_count": null,
   "id": "aecdf665",
   "metadata": {},
   "outputs": [],
   "source": [
    "DIR = f'{DATA_FOLD}/{VERSION}/3.analysis/imputation_48/{DATASET}/tables/'\n",
    "print({DATASET})"
   ]
  },
  {
   "cell_type": "markdown",
   "id": "85cd3b66",
   "metadata": {},
   "source": [
    "# Datasets"
   ]
  },
  {
   "cell_type": "code",
   "execution_count": null,
   "id": "6785a93c",
   "metadata": {},
   "outputs": [],
   "source": [
    "df_mean = pd.read_excel(DIR + '/pam_comparaison/' + 'pa_only_mean.xlsx')\n",
    "df_lin = pd.read_excel(DIR + '/pam_comparaison/' + 'pa_only_lin_interpol.xlsx')\n",
    "df_saits = pd.read_excel(DIR + '/pam_comparaison/' + 'pa_only_saits.xlsx')"
   ]
  },
  {
   "cell_type": "code",
   "execution_count": null,
   "id": "6d50a9d3",
   "metadata": {},
   "outputs": [],
   "source": [
    "df_mean.shape == df_lin.shape == df_saits.shape"
   ]
  },
  {
   "cell_type": "markdown",
   "id": "2e696166",
   "metadata": {},
   "source": [
    "#  Bland & Altman function"
   ]
  },
  {
   "cell_type": "code",
   "execution_count": null,
   "id": "34e5da43",
   "metadata": {},
   "outputs": [],
   "source": [
    "df_mean"
   ]
  },
  {
   "cell_type": "code",
   "execution_count": null,
   "id": "96a07cf9",
   "metadata": {},
   "outputs": [],
   "source": [
    "sns.set_style('whitegrid')\n",
    "\n",
    "fig, axes = plt.subplots(3, figsize = (16,12))\n",
    "\n",
    "datasets = [\n",
    "    (df_mean, \"A : Mean\", axes[0]),\n",
    "    (df_lin, \"B : Linear Interpolation\", axes[1]),\n",
    "    (df_saits, \"C : SAITS\", axes[2]),\n",
    "]\n",
    "\n",
    "for df, title, ax in datasets:\n",
    "    x = 'moyenne'\n",
    "    y= 'différence'\n",
    "    values = np.vstack([df[x], df[y]])\n",
    "    kernel = stats.gaussian_kde(values)(values)\n",
    "    sns.scatterplot(data = df, x=x, y=y, ax=ax, c=kernel, cmap='viridis')\n",
    "    #twin_ax= ax.twinx()\n",
    "    #sns.kdeplot(data=df, x=x, ax=twin_ax, color='green')\n",
    "    #sns.scatterplot(data = df, x='masquées', y='différence', ax=ax, alpha=0.5)\n",
    "    ax.set_ylim(-100, 80)\n",
    "    ax.set_xlim(20, 140)\n",
    "    #twin_ax.set_ylim(0,0.2)\n",
    "    ax.set_xlabel('Average of Imputed and Msked Values (mmHg)')\n",
    "    ax.set_ylabel('Imputed Value - Masked Values (mmHg)')\n",
    "    ax.set_title(title, loc='left')"
   ]
  },
  {
   "cell_type": "code",
   "execution_count": null,
   "id": "58fedfda",
   "metadata": {},
   "outputs": [],
   "source": [
    "def plot_bland_altman_joint(df, title, bins=10):\n",
    "    \"\"\"\n",
    "    Affiche une figure de Bland-Altman avec jointplot utilisant :\n",
    "      - l'axe x = différence (imputation - valeur masquée)\n",
    "      - l'axe y = moyenne (imputation et masquée)\n",
    "      - des statistiques locales (moyenne et ±1.96 SD) calculées dans des bins de x\n",
    "\n",
    "    Paramètres:\n",
    "      df    : DataFrame contenant les colonnes 'différence' et 'moyenne'\n",
    "      title : Titre de la figure\n",
    "      bins  : Nombre de bins à utiliser pour le calcul des statistiques locales (défaut 10)\n",
    "    \"\"\"\n",
    "    # Affectation des variables\n",
    "    x = df['moyenne']\n",
    "    y = df['différence']\n",
    "    \n",
    "    # Création du jointplot : scatter central et distributions marginales\n",
    "    g = sns.jointplot(x=x, y=y, kind='scatter', height=6,)\n",
    "                     # marginal_kws=dict(bins=20, fill=True))\n",
    "    g.figure.suptitle(title, fontsize=16)\n",
    "    # Ajustement pour éviter que le titre ne chevauche le plot\n",
    "    g.figure.subplots_adjust(top=0.92)\n",
    "    \n",
    "    # Calcul des statistiques locales par bins\n",
    "    # On définit des intervalles sur la plage de x\n",
    "    bins_edges = np.linspace(x.min(), x.max(), bins+1)\n",
    "    # On affecte chaque point à un bin via np.digitize (les bins vont de 1 à bins)\n",
    "    bin_idx = np.digitize(x, bins_edges)\n",
    "    \n",
    "    # Tableaux pour stocker les centres de bins, les moyennes locales et les SD locales\n",
    "    bin_centers = []\n",
    "    local_means = []\n",
    "    local_upper = []\n",
    "    local_lower = []\n",
    "    \n",
    "    # Pour chaque bin, on calcule la moyenne (y) et l'écart-type\n",
    "    for i in range(1, bins+1):\n",
    "        mask = bin_idx == i\n",
    "        if np.sum(mask) > 0:\n",
    "            # Option 1 : centre calculé sur les x du bin\n",
    "            bin_center = x[mask].mean()\n",
    "            # Option 2 (alternative) : milieu du bin : (bins_edges[i-1] + bins_edges[i]) / 2\n",
    "            mean_y = y[mask].mean()\n",
    "            std_y = y[mask].std(ddof=1)\n",
    "            bin_centers.append(bin_center)\n",
    "            local_means.append(mean_y)\n",
    "            local_upper.append(mean_y + 1.96 * std_y)\n",
    "            local_lower.append(mean_y - 1.96 * std_y)\n",
    "    \n",
    "    # Récupération de l'axe principal (centre du jointplot)\n",
    "    ax = g.ax_joint\n",
    "    # Tracé de la courbe de la moyenne locale et des limites ±1.96 SD\n",
    "    ax.plot(bin_centers, local_means, color='red', linestyle='-', label='Moyenne locale')\n",
    "    ax.plot(bin_centers, local_upper, color='grey', linestyle='--', label='Moyenne +1.96 SD')\n",
    "    ax.plot(bin_centers, local_lower, color='grey', linestyle='--', label='Moyenne -1.96 SD')\n",
    "    \n",
    "    ax.legend(loc='best')\n",
    "    \n",
    "    # Mise à jour des labels avec la bonne assignation des variables\n",
    "    ax.set_xlabel(\"Moyenne (Imputation & Masquée) (mmHg)\")\n",
    "    ax.set_ylabel(\"Différence (Imputation - Masquée) (mmHg)\")\n",
    "\n",
    "    \n",
    "    plt.show()\n",
    "\n",
    "# Exemple d'utilisation avec trois jeux de données\n",
    "# Remplace df_mimic_mean, df_mimic_lin, df_mimic_saits par tes DataFrames\n",
    "plot_bland_altman_joint(df_mean, \"A : Mean Imputation\")\n",
    "plot_bland_altman_joint(df_lin, \"B : Linear Interpolation\")\n",
    "plot_bland_altman_joint(df_saits, \"C : SAITS\")"
   ]
  }
 ],
 "metadata": {
  "language_info": {
   "name": "python"
  }
 },
 "nbformat": 4,
 "nbformat_minor": 5
}
